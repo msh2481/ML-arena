{
 "cells": [
  {
   "cell_type": "code",
   "execution_count": 1,
   "metadata": {},
   "outputs": [
    {
     "name": "stderr",
     "output_type": "stream",
     "text": [
      "/Users/mike/Desktop/ML-arena/.venv/lib/python3.10/site-packages/tqdm/auto.py:21: TqdmWarning: IProgress not found. Please update jupyter and ipywidgets. See https://ipywidgets.readthedocs.io/en/stable/user_install.html\n",
      "  from .autonotebook import tqdm as notebook_tqdm\n"
     ]
    }
   ],
   "source": [
    "from pprint import pprint\n",
    "\n",
    "import numpy as np\n",
    "import pandas as pd\n",
    "from datasets import id_map, load_dataset, split_data\n",
    "from linear_models import wrap\n",
    "from sklearn.feature_selection import mutual_info_regression\n",
    "from sklearn.isotonic import IsotonicRegression\n",
    "from sklearn.linear_model import (\n",
    "    ARDRegression,\n",
    "    BayesianRidge,\n",
    "    Lasso,\n",
    "    LassoCV,\n",
    "    LinearRegression,\n",
    "    Ridge,\n",
    "    RidgeCV,\n",
    ")\n",
    "from tree_models import *\n",
    "import contextlib\n",
    "import os\n",
    "\n",
    "from linear_models import MISO\n",
    "\n",
    "from sklearn.ensemble import HistGradientBoostingRegressor\n",
    "from sklearn.pipeline import Pipeline\n",
    "from sklearn.preprocessing import QuantileTransformer, RobustScaler, StandardScaler\n",
    "from tqdm.auto import tqdm\n",
    "from tree_models import HCV\n",
    "from wrappers import BFS, RFS, RobustRegressor\n",
    "\n",
    "\n",
    "class Silencer:\n",
    "    def __init__(self, verbose: bool = False):\n",
    "        self.verbose = verbose\n",
    "        self.null_file = None\n",
    "        self.stdout_redirector = None\n",
    "        self.stderr_redirector = None\n",
    "\n",
    "    def __enter__(self):\n",
    "        if not self.verbose:\n",
    "            self.null_file = open(os.devnull, \"w\")\n",
    "            self.stdout_redirector = contextlib.redirect_stdout(self.null_file)\n",
    "            self.stderr_redirector = contextlib.redirect_stderr(self.null_file)\n",
    "            self.stdout_redirector.__enter__()\n",
    "            self.stderr_redirector.__enter__()\n",
    "        return self\n",
    "\n",
    "    def __exit__(self, exc_type, exc_val, exc_tb):\n",
    "        if not self.verbose:\n",
    "            self.stderr_redirector.__exit__(exc_type, exc_val, exc_tb)\n",
    "            self.stdout_redirector.__exit__(exc_type, exc_val, exc_tb)\n",
    "            self.null_file.close()\n"
   ]
  },
  {
   "cell_type": "code",
   "execution_count": 2,
   "metadata": {},
   "outputs": [
    {
     "name": "stdout",
     "output_type": "stream",
     "text": [
      "{'student_performance': 320,\n",
      " 'concrete': 165,\n",
      " 'computer_hardware': 29,\n",
      " 'kidney_disease': 857,\n",
      " 'fertility': 244,\n",
      " 'algerian_forest_fires': 547,\n",
      " 'airfoil_self_noise': 291,\n",
      " 'istanbul_stock_exchange': 247}\n"
     ]
    }
   ],
   "source": [
    "pprint(id_map, sort_dicts=False)\n"
   ]
  },
  {
   "cell_type": "code",
   "execution_count": 3,
   "metadata": {},
   "outputs": [
    {
     "name": "stderr",
     "output_type": "stream",
     "text": [
      "  0%|          | 0/20 [00:00<?, ?it/s]"
     ]
    },
    {
     "name": "stderr",
     "output_type": "stream",
     "text": [
      "\u001b[32m2025-03-15 18:03:30.974\u001b[0m | \u001b[1mINFO    \u001b[0m | \u001b[36mtree_models\u001b[0m:\u001b[36mfit\u001b[0m:\u001b[36m153\u001b[0m - \u001b[1mBest parameters #5: {'max_depth': np.int64(3), 'learning_rate': np.float64(0.1)}\u001b[0m\n",
      "\u001b[32m2025-03-15 18:03:30.984\u001b[0m | \u001b[1mINFO    \u001b[0m | \u001b[36mtree_models\u001b[0m:\u001b[36mfit\u001b[0m:\u001b[36m153\u001b[0m - \u001b[1mBest parameters #6: {'max_depth': np.int64(2), 'learning_rate': np.float64(0.2)}\u001b[0m\n",
      "\u001b[32m2025-03-15 18:03:30.991\u001b[0m | \u001b[1mINFO    \u001b[0m | \u001b[36mtree_models\u001b[0m:\u001b[36mfit\u001b[0m:\u001b[36m153\u001b[0m - \u001b[1mBest parameters #7: {'max_depth': np.int64(3), 'learning_rate': np.float64(0.2)}\u001b[0m\n",
      "\u001b[32m2025-03-15 18:03:31.219\u001b[0m | \u001b[1mINFO    \u001b[0m | \u001b[36mtree_models\u001b[0m:\u001b[36mfit\u001b[0m:\u001b[36m153\u001b[0m - \u001b[1mBest parameters #0: {'max_depth': np.int64(2), 'learning_rate': np.float64(0.02)}\u001b[0m\n",
      "\u001b[32m2025-03-15 18:03:31.226\u001b[0m | \u001b[1mINFO    \u001b[0m | \u001b[36mtree_models\u001b[0m:\u001b[36mfit\u001b[0m:\u001b[36m153\u001b[0m - \u001b[1mBest parameters #9: {'max_depth': np.int64(3), 'learning_rate': np.float64(0.02)}\u001b[0m\n",
      "\u001b[32m2025-03-15 18:03:31.234\u001b[0m | \u001b[1mINFO    \u001b[0m | \u001b[36mtree_models\u001b[0m:\u001b[36mfit\u001b[0m:\u001b[36m153\u001b[0m - \u001b[1mBest parameters #10: {'max_depth': np.int64(2), 'learning_rate': np.float64(0.02)}\u001b[0m\n",
      "  5%|▌         | 1/20 [00:00<00:15,  1.22it/s]\u001b[32m2025-03-15 18:03:31.785\u001b[0m | \u001b[1mINFO    \u001b[0m | \u001b[36mtree_models\u001b[0m:\u001b[36mfit\u001b[0m:\u001b[36m153\u001b[0m - \u001b[1mBest parameters #5: {'max_depth': np.int64(3), 'learning_rate': np.float64(0.1)}\u001b[0m\n",
      "\u001b[32m2025-03-15 18:03:31.793\u001b[0m | \u001b[1mINFO    \u001b[0m | \u001b[36mtree_models\u001b[0m:\u001b[36mfit\u001b[0m:\u001b[36m153\u001b[0m - \u001b[1mBest parameters #6: {'max_depth': np.int64(2), 'learning_rate': np.float64(0.2)}\u001b[0m\n",
      "\u001b[32m2025-03-15 18:03:31.800\u001b[0m | \u001b[1mINFO    \u001b[0m | \u001b[36mtree_models\u001b[0m:\u001b[36mfit\u001b[0m:\u001b[36m153\u001b[0m - \u001b[1mBest parameters #7: {'max_depth': np.int64(3), 'learning_rate': np.float64(0.2)}\u001b[0m\n",
      "\u001b[32m2025-03-15 18:03:32.032\u001b[0m | \u001b[1mINFO    \u001b[0m | \u001b[36mtree_models\u001b[0m:\u001b[36mfit\u001b[0m:\u001b[36m153\u001b[0m - \u001b[1mBest parameters #8: {'max_depth': np.int64(3), 'learning_rate': np.float64(0.02)}\u001b[0m\n",
      "\u001b[32m2025-03-15 18:03:32.044\u001b[0m | \u001b[1mINFO    \u001b[0m | \u001b[36mtree_models\u001b[0m:\u001b[36mfit\u001b[0m:\u001b[36m153\u001b[0m - \u001b[1mBest parameters #10: {'max_depth': np.int64(2), 'learning_rate': np.float64(0.02)}\u001b[0m\n",
      "\u001b[32m2025-03-15 18:03:32.050\u001b[0m | \u001b[1mINFO    \u001b[0m | \u001b[36mtree_models\u001b[0m:\u001b[36mfit\u001b[0m:\u001b[36m153\u001b[0m - \u001b[1mBest parameters #9: {'max_depth': np.int64(2), 'learning_rate': np.float64(0.05)}\u001b[0m\n",
      " 10%|█         | 2/20 [00:01<00:15,  1.20it/s]\u001b[32m2025-03-15 18:03:32.686\u001b[0m | \u001b[1mINFO    \u001b[0m | \u001b[36mtree_models\u001b[0m:\u001b[36mfit\u001b[0m:\u001b[36m153\u001b[0m - \u001b[1mBest parameters #6: {'max_depth': np.int64(2), 'learning_rate': np.float64(0.2)}\u001b[0m\n",
      "\u001b[32m2025-03-15 18:03:32.692\u001b[0m | \u001b[1mINFO    \u001b[0m | \u001b[36mtree_models\u001b[0m:\u001b[36mfit\u001b[0m:\u001b[36m153\u001b[0m - \u001b[1mBest parameters #7: {'max_depth': np.int64(3), 'learning_rate': np.float64(0.2)}\u001b[0m\n",
      "\u001b[32m2025-03-15 18:03:32.707\u001b[0m | \u001b[1mINFO    \u001b[0m | \u001b[36mtree_models\u001b[0m:\u001b[36mfit\u001b[0m:\u001b[36m153\u001b[0m - \u001b[1mBest parameters #8: {'max_depth': np.int64(3), 'learning_rate': np.float64(0.1)}\u001b[0m\n",
      "\u001b[32m2025-03-15 18:03:32.950\u001b[0m | \u001b[1mINFO    \u001b[0m | \u001b[36mtree_models\u001b[0m:\u001b[36mfit\u001b[0m:\u001b[36m153\u001b[0m - \u001b[1mBest parameters #0: {'max_depth': np.int64(2), 'learning_rate': np.float64(0.02)}\u001b[0m\n",
      "\u001b[32m2025-03-15 18:03:32.957\u001b[0m | \u001b[1mINFO    \u001b[0m | \u001b[36mtree_models\u001b[0m:\u001b[36mfit\u001b[0m:\u001b[36m153\u001b[0m - \u001b[1mBest parameters #9: {'max_depth': np.int64(2), 'learning_rate': np.float64(0.05)}\u001b[0m\n",
      "\u001b[32m2025-03-15 18:03:32.963\u001b[0m | \u001b[1mINFO    \u001b[0m | \u001b[36mtree_models\u001b[0m:\u001b[36mfit\u001b[0m:\u001b[36m153\u001b[0m - \u001b[1mBest parameters #10: {'max_depth': np.int64(2), 'learning_rate': np.float64(0.02)}\u001b[0m\n",
      " 15%|█▌        | 3/20 [00:02<00:14,  1.17it/s]\u001b[32m2025-03-15 18:03:33.493\u001b[0m | \u001b[1mINFO    \u001b[0m | \u001b[36mtree_models\u001b[0m:\u001b[36mfit\u001b[0m:\u001b[36m153\u001b[0m - \u001b[1mBest parameters #5: {'max_depth': np.int64(3), 'learning_rate': np.float64(0.1)}\u001b[0m\n",
      "\u001b[32m2025-03-15 18:03:33.501\u001b[0m | \u001b[1mINFO    \u001b[0m | \u001b[36mtree_models\u001b[0m:\u001b[36mfit\u001b[0m:\u001b[36m153\u001b[0m - \u001b[1mBest parameters #6: {'max_depth': np.int64(2), 'learning_rate': np.float64(0.2)}\u001b[0m\n",
      "\u001b[32m2025-03-15 18:03:33.508\u001b[0m | \u001b[1mINFO    \u001b[0m | \u001b[36mtree_models\u001b[0m:\u001b[36mfit\u001b[0m:\u001b[36m153\u001b[0m - \u001b[1mBest parameters #7: {'max_depth': np.int64(3), 'learning_rate': np.float64(0.2)}\u001b[0m\n",
      "\u001b[32m2025-03-15 18:03:33.721\u001b[0m | \u001b[1mINFO    \u001b[0m | \u001b[36mtree_models\u001b[0m:\u001b[36mfit\u001b[0m:\u001b[36m153\u001b[0m - \u001b[1mBest parameters #8: {'max_depth': np.int64(2), 'learning_rate': np.float64(0.2)}\u001b[0m\n",
      "\u001b[32m2025-03-15 18:03:33.730\u001b[0m | \u001b[1mINFO    \u001b[0m | \u001b[36mtree_models\u001b[0m:\u001b[36mfit\u001b[0m:\u001b[36m153\u001b[0m - \u001b[1mBest parameters #9: {'max_depth': np.int64(3), 'learning_rate': np.float64(0.02)}\u001b[0m\n",
      "\u001b[32m2025-03-15 18:03:33.739\u001b[0m | \u001b[1mINFO    \u001b[0m | \u001b[36mtree_models\u001b[0m:\u001b[36mfit\u001b[0m:\u001b[36m153\u001b[0m - \u001b[1mBest parameters #10: {'max_depth': np.int64(2), 'learning_rate': np.float64(0.02)}\u001b[0m\n",
      " 20%|██        | 4/20 [00:03<00:13,  1.21it/s]\u001b[32m2025-03-15 18:03:34.414\u001b[0m | \u001b[1mINFO    \u001b[0m | \u001b[36mtree_models\u001b[0m:\u001b[36mfit\u001b[0m:\u001b[36m153\u001b[0m - \u001b[1mBest parameters #9: {'max_depth': np.int64(2), 'learning_rate': np.float64(0.2)}\u001b[0m\n",
      "\u001b[32m2025-03-15 18:03:34.423\u001b[0m | \u001b[1mINFO    \u001b[0m | \u001b[36mtree_models\u001b[0m:\u001b[36mfit\u001b[0m:\u001b[36m153\u001b[0m - \u001b[1mBest parameters #10: {'max_depth': np.int64(3), 'learning_rate': np.float64(0.2)}\u001b[0m\n",
      "\u001b[32m2025-03-15 18:03:34.442\u001b[0m | \u001b[1mINFO    \u001b[0m | \u001b[36mtree_models\u001b[0m:\u001b[36mfit\u001b[0m:\u001b[36m153\u001b[0m - \u001b[1mBest parameters #8: {'max_depth': np.int64(3), 'learning_rate': np.float64(0.1)}\u001b[0m\n",
      "\u001b[32m2025-03-15 18:03:34.712\u001b[0m | \u001b[1mINFO    \u001b[0m | \u001b[36mtree_models\u001b[0m:\u001b[36mfit\u001b[0m:\u001b[36m153\u001b[0m - \u001b[1mBest parameters #9: {'max_depth': np.int64(2), 'learning_rate': np.float64(0.05)}\u001b[0m\n",
      "\u001b[32m2025-03-15 18:03:34.717\u001b[0m | \u001b[1mINFO    \u001b[0m | \u001b[36mtree_models\u001b[0m:\u001b[36mfit\u001b[0m:\u001b[36m153\u001b[0m - \u001b[1mBest parameters #2: {'max_depth': np.int64(2), 'learning_rate': np.float64(0.05)}\u001b[0m\n",
      "\u001b[32m2025-03-15 18:03:34.722\u001b[0m | \u001b[1mINFO    \u001b[0m | \u001b[36mtree_models\u001b[0m:\u001b[36mfit\u001b[0m:\u001b[36m153\u001b[0m - \u001b[1mBest parameters #4: {'max_depth': np.int64(2), 'learning_rate': np.float64(0.1)}\u001b[0m\n",
      " 25%|██▌       | 5/20 [00:04<00:13,  1.11it/s]\u001b[32m2025-03-15 18:03:35.349\u001b[0m | \u001b[1mINFO    \u001b[0m | \u001b[36mtree_models\u001b[0m:\u001b[36mfit\u001b[0m:\u001b[36m153\u001b[0m - \u001b[1mBest parameters #5: {'max_depth': np.int64(3), 'learning_rate': np.float64(0.1)}\u001b[0m\n",
      "\u001b[32m2025-03-15 18:03:35.364\u001b[0m | \u001b[1mINFO    \u001b[0m | \u001b[36mtree_models\u001b[0m:\u001b[36mfit\u001b[0m:\u001b[36m153\u001b[0m - \u001b[1mBest parameters #6: {'max_depth': np.int64(2), 'learning_rate': np.float64(0.2)}\u001b[0m\n",
      "\u001b[32m2025-03-15 18:03:35.375\u001b[0m | \u001b[1mINFO    \u001b[0m | \u001b[36mtree_models\u001b[0m:\u001b[36mfit\u001b[0m:\u001b[36m153\u001b[0m - \u001b[1mBest parameters #7: {'max_depth': np.int64(3), 'learning_rate': np.float64(0.2)}\u001b[0m\n",
      "\u001b[32m2025-03-15 18:03:35.640\u001b[0m | \u001b[1mINFO    \u001b[0m | \u001b[36mtree_models\u001b[0m:\u001b[36mfit\u001b[0m:\u001b[36m153\u001b[0m - \u001b[1mBest parameters #9: {'max_depth': np.int64(2), 'learning_rate': np.float64(0.02)}\u001b[0m\n",
      "\u001b[32m2025-03-15 18:03:35.645\u001b[0m | \u001b[1mINFO    \u001b[0m | \u001b[36mtree_models\u001b[0m:\u001b[36mfit\u001b[0m:\u001b[36m153\u001b[0m - \u001b[1mBest parameters #10: {'max_depth': np.int64(3), 'learning_rate': np.float64(0.02)}\u001b[0m\n",
      "\u001b[32m2025-03-15 18:03:35.651\u001b[0m | \u001b[1mINFO    \u001b[0m | \u001b[36mtree_models\u001b[0m:\u001b[36mfit\u001b[0m:\u001b[36m153\u001b[0m - \u001b[1mBest parameters #8: {'max_depth': np.int64(2), 'learning_rate': np.float64(0.05)}\u001b[0m\n",
      " 30%|███       | 6/20 [00:05<00:12,  1.10it/s]\u001b[32m2025-03-15 18:03:36.267\u001b[0m | \u001b[1mINFO    \u001b[0m | \u001b[36mtree_models\u001b[0m:\u001b[36mfit\u001b[0m:\u001b[36m153\u001b[0m - \u001b[1mBest parameters #6: {'max_depth': np.int64(2), 'learning_rate': np.float64(0.2)}\u001b[0m\n",
      "\u001b[32m2025-03-15 18:03:36.273\u001b[0m | \u001b[1mINFO    \u001b[0m | \u001b[36mtree_models\u001b[0m:\u001b[36mfit\u001b[0m:\u001b[36m153\u001b[0m - \u001b[1mBest parameters #7: {'max_depth': np.int64(3), 'learning_rate': np.float64(0.2)}\u001b[0m\n",
      "\u001b[32m2025-03-15 18:03:36.285\u001b[0m | \u001b[1mINFO    \u001b[0m | \u001b[36mtree_models\u001b[0m:\u001b[36mfit\u001b[0m:\u001b[36m153\u001b[0m - \u001b[1mBest parameters #8: {'max_depth': np.int64(3), 'learning_rate': np.float64(0.1)}\u001b[0m\n",
      "\u001b[32m2025-03-15 18:03:36.517\u001b[0m | \u001b[1mINFO    \u001b[0m | \u001b[36mtree_models\u001b[0m:\u001b[36mfit\u001b[0m:\u001b[36m153\u001b[0m - \u001b[1mBest parameters #8: {'max_depth': np.int64(3), 'learning_rate': np.float64(0.02)}\u001b[0m\n",
      "\u001b[32m2025-03-15 18:03:36.526\u001b[0m | \u001b[1mINFO    \u001b[0m | \u001b[36mtree_models\u001b[0m:\u001b[36mfit\u001b[0m:\u001b[36m153\u001b[0m - \u001b[1mBest parameters #10: {'max_depth': np.int64(2), 'learning_rate': np.float64(0.02)}\u001b[0m\n",
      "\u001b[32m2025-03-15 18:03:36.533\u001b[0m | \u001b[1mINFO    \u001b[0m | \u001b[36mtree_models\u001b[0m:\u001b[36mfit\u001b[0m:\u001b[36m153\u001b[0m - \u001b[1mBest parameters #9: {'max_depth': np.int64(2), 'learning_rate': np.float64(0.05)}\u001b[0m\n",
      " 35%|███▌      | 7/20 [00:06<00:11,  1.12it/s]\u001b[32m2025-03-15 18:03:37.101\u001b[0m | \u001b[1mINFO    \u001b[0m | \u001b[36mtree_models\u001b[0m:\u001b[36mfit\u001b[0m:\u001b[36m153\u001b[0m - \u001b[1mBest parameters #9: {'max_depth': np.int64(2), 'learning_rate': np.float64(0.2)}\u001b[0m\n",
      "\u001b[32m2025-03-15 18:03:37.108\u001b[0m | \u001b[1mINFO    \u001b[0m | \u001b[36mtree_models\u001b[0m:\u001b[36mfit\u001b[0m:\u001b[36m153\u001b[0m - \u001b[1mBest parameters #10: {'max_depth': np.int64(3), 'learning_rate': np.float64(0.2)}\u001b[0m\n",
      "\u001b[32m2025-03-15 18:03:37.121\u001b[0m | \u001b[1mINFO    \u001b[0m | \u001b[36mtree_models\u001b[0m:\u001b[36mfit\u001b[0m:\u001b[36m153\u001b[0m - \u001b[1mBest parameters #8: {'max_depth': np.int64(3), 'learning_rate': np.float64(0.1)}\u001b[0m\n",
      "\u001b[32m2025-03-15 18:03:37.387\u001b[0m | \u001b[1mINFO    \u001b[0m | \u001b[36mtree_models\u001b[0m:\u001b[36mfit\u001b[0m:\u001b[36m153\u001b[0m - \u001b[1mBest parameters #9: {'max_depth': np.int64(2), 'learning_rate': np.float64(0.2)}\u001b[0m\n",
      "\u001b[32m2025-03-15 18:03:37.393\u001b[0m | \u001b[1mINFO    \u001b[0m | \u001b[36mtree_models\u001b[0m:\u001b[36mfit\u001b[0m:\u001b[36m153\u001b[0m - \u001b[1mBest parameters #8: {'max_depth': np.int64(3), 'learning_rate': np.float64(0.02)}\u001b[0m\n",
      "\u001b[32m2025-03-15 18:03:37.402\u001b[0m | \u001b[1mINFO    \u001b[0m | \u001b[36mtree_models\u001b[0m:\u001b[36mfit\u001b[0m:\u001b[36m153\u001b[0m - \u001b[1mBest parameters #10: {'max_depth': np.int64(2), 'learning_rate': np.float64(0.1)}\u001b[0m\n",
      " 40%|████      | 8/20 [00:07<00:10,  1.13it/s]\u001b[32m2025-03-15 18:03:37.985\u001b[0m | \u001b[1mINFO    \u001b[0m | \u001b[36mtree_models\u001b[0m:\u001b[36mfit\u001b[0m:\u001b[36m153\u001b[0m - \u001b[1mBest parameters #5: {'max_depth': np.int64(3), 'learning_rate': np.float64(0.1)}\u001b[0m\n",
      "\u001b[32m2025-03-15 18:03:38.005\u001b[0m | \u001b[1mINFO    \u001b[0m | \u001b[36mtree_models\u001b[0m:\u001b[36mfit\u001b[0m:\u001b[36m153\u001b[0m - \u001b[1mBest parameters #6: {'max_depth': np.int64(2), 'learning_rate': np.float64(0.2)}\u001b[0m\n",
      "\u001b[32m2025-03-15 18:03:38.058\u001b[0m | \u001b[1mINFO    \u001b[0m | \u001b[36mtree_models\u001b[0m:\u001b[36mfit\u001b[0m:\u001b[36m153\u001b[0m - \u001b[1mBest parameters #7: {'max_depth': np.int64(3), 'learning_rate': np.float64(0.2)}\u001b[0m\n",
      "\u001b[32m2025-03-15 18:03:38.305\u001b[0m | \u001b[1mINFO    \u001b[0m | \u001b[36mtree_models\u001b[0m:\u001b[36mfit\u001b[0m:\u001b[36m153\u001b[0m - \u001b[1mBest parameters #8: {'max_depth': np.int64(2), 'learning_rate': np.float64(0.05)}\u001b[0m\n",
      "\u001b[32m2025-03-15 18:03:38.310\u001b[0m | \u001b[1mINFO    \u001b[0m | \u001b[36mtree_models\u001b[0m:\u001b[36mfit\u001b[0m:\u001b[36m153\u001b[0m - \u001b[1mBest parameters #10: {'max_depth': np.int64(2), 'learning_rate': np.float64(0.02)}\u001b[0m\n",
      "\u001b[32m2025-03-15 18:03:38.315\u001b[0m | \u001b[1mINFO    \u001b[0m | \u001b[36mtree_models\u001b[0m:\u001b[36mfit\u001b[0m:\u001b[36m153\u001b[0m - \u001b[1mBest parameters #0: {'max_depth': np.int64(2), 'learning_rate': np.float64(0.02)}\u001b[0m\n",
      " 45%|████▌     | 9/20 [00:07<00:10,  1.10it/s]\u001b[32m2025-03-15 18:03:38.956\u001b[0m | \u001b[1mINFO    \u001b[0m | \u001b[36mtree_models\u001b[0m:\u001b[36mfit\u001b[0m:\u001b[36m153\u001b[0m - \u001b[1mBest parameters #9: {'max_depth': np.int64(2), 'learning_rate': np.float64(0.2)}\u001b[0m\n",
      "\u001b[32m2025-03-15 18:03:38.963\u001b[0m | \u001b[1mINFO    \u001b[0m | \u001b[36mtree_models\u001b[0m:\u001b[36mfit\u001b[0m:\u001b[36m153\u001b[0m - \u001b[1mBest parameters #10: {'max_depth': np.int64(3), 'learning_rate': np.float64(0.2)}\u001b[0m\n",
      "\u001b[32m2025-03-15 18:03:38.976\u001b[0m | \u001b[1mINFO    \u001b[0m | \u001b[36mtree_models\u001b[0m:\u001b[36mfit\u001b[0m:\u001b[36m153\u001b[0m - \u001b[1mBest parameters #8: {'max_depth': np.int64(3), 'learning_rate': np.float64(0.1)}\u001b[0m\n",
      "\u001b[32m2025-03-15 18:03:39.237\u001b[0m | \u001b[1mINFO    \u001b[0m | \u001b[36mtree_models\u001b[0m:\u001b[36mfit\u001b[0m:\u001b[36m153\u001b[0m - \u001b[1mBest parameters #8: {'max_depth': np.int64(3), 'learning_rate': np.float64(0.02)}\u001b[0m\n",
      "\u001b[32m2025-03-15 18:03:39.244\u001b[0m | \u001b[1mINFO    \u001b[0m | \u001b[36mtree_models\u001b[0m:\u001b[36mfit\u001b[0m:\u001b[36m153\u001b[0m - \u001b[1mBest parameters #10: {'max_depth': np.int64(2), 'learning_rate': np.float64(0.02)}\u001b[0m\n",
      "\u001b[32m2025-03-15 18:03:39.250\u001b[0m | \u001b[1mINFO    \u001b[0m | \u001b[36mtree_models\u001b[0m:\u001b[36mfit\u001b[0m:\u001b[36m153\u001b[0m - \u001b[1mBest parameters #9: {'max_depth': np.int64(2), 'learning_rate': np.float64(0.05)}\u001b[0m\n",
      " 50%|█████     | 10/20 [00:08<00:09,  1.11it/s]\u001b[32m2025-03-15 18:03:39.838\u001b[0m | \u001b[1mINFO    \u001b[0m | \u001b[36mtree_models\u001b[0m:\u001b[36mfit\u001b[0m:\u001b[36m153\u001b[0m - \u001b[1mBest parameters #5: {'max_depth': np.int64(3), 'learning_rate': np.float64(0.1)}\u001b[0m\n",
      "\u001b[32m2025-03-15 18:03:39.850\u001b[0m | \u001b[1mINFO    \u001b[0m | \u001b[36mtree_models\u001b[0m:\u001b[36mfit\u001b[0m:\u001b[36m153\u001b[0m - \u001b[1mBest parameters #6: {'max_depth': np.int64(2), 'learning_rate': np.float64(0.2)}\u001b[0m\n",
      "\u001b[32m2025-03-15 18:03:39.865\u001b[0m | \u001b[1mINFO    \u001b[0m | \u001b[36mtree_models\u001b[0m:\u001b[36mfit\u001b[0m:\u001b[36m153\u001b[0m - \u001b[1mBest parameters #7: {'max_depth': np.int64(3), 'learning_rate': np.float64(0.2)}\u001b[0m\n",
      "\u001b[32m2025-03-15 18:03:40.137\u001b[0m | \u001b[1mINFO    \u001b[0m | \u001b[36mtree_models\u001b[0m:\u001b[36mfit\u001b[0m:\u001b[36m153\u001b[0m - \u001b[1mBest parameters #1: {'max_depth': np.int64(3), 'learning_rate': np.float64(0.02)}\u001b[0m\n",
      "\u001b[32m2025-03-15 18:03:40.149\u001b[0m | \u001b[1mINFO    \u001b[0m | \u001b[36mtree_models\u001b[0m:\u001b[36mfit\u001b[0m:\u001b[36m153\u001b[0m - \u001b[1mBest parameters #0: {'max_depth': np.int64(2), 'learning_rate': np.float64(0.02)}\u001b[0m\n",
      "\u001b[32m2025-03-15 18:03:40.160\u001b[0m | \u001b[1mINFO    \u001b[0m | \u001b[36mtree_models\u001b[0m:\u001b[36mfit\u001b[0m:\u001b[36m153\u001b[0m - \u001b[1mBest parameters #10: {'max_depth': np.int64(2), 'learning_rate': np.float64(0.02)}\u001b[0m\n",
      " 55%|█████▌    | 11/20 [00:09<00:08,  1.10it/s]\u001b[32m2025-03-15 18:03:40.745\u001b[0m | \u001b[1mINFO    \u001b[0m | \u001b[36mtree_models\u001b[0m:\u001b[36mfit\u001b[0m:\u001b[36m153\u001b[0m - \u001b[1mBest parameters #9: {'max_depth': np.int64(2), 'learning_rate': np.float64(0.2)}\u001b[0m\n",
      "\u001b[32m2025-03-15 18:03:40.752\u001b[0m | \u001b[1mINFO    \u001b[0m | \u001b[36mtree_models\u001b[0m:\u001b[36mfit\u001b[0m:\u001b[36m153\u001b[0m - \u001b[1mBest parameters #10: {'max_depth': np.int64(3), 'learning_rate': np.float64(0.2)}\u001b[0m\n",
      "\u001b[32m2025-03-15 18:03:40.764\u001b[0m | \u001b[1mINFO    \u001b[0m | \u001b[36mtree_models\u001b[0m:\u001b[36mfit\u001b[0m:\u001b[36m153\u001b[0m - \u001b[1mBest parameters #8: {'max_depth': np.int64(3), 'learning_rate': np.float64(0.1)}\u001b[0m\n",
      "\u001b[32m2025-03-15 18:03:40.986\u001b[0m | \u001b[1mINFO    \u001b[0m | \u001b[36mtree_models\u001b[0m:\u001b[36mfit\u001b[0m:\u001b[36m153\u001b[0m - \u001b[1mBest parameters #7: {'max_depth': np.int64(3), 'learning_rate': np.float64(0.2)}\u001b[0m\n",
      "\u001b[32m2025-03-15 18:03:40.998\u001b[0m | \u001b[1mINFO    \u001b[0m | \u001b[36mtree_models\u001b[0m:\u001b[36mfit\u001b[0m:\u001b[36m153\u001b[0m - \u001b[1mBest parameters #2: {'max_depth': np.int64(2), 'learning_rate': np.float64(0.05)}\u001b[0m\n",
      "\u001b[32m2025-03-15 18:03:41.008\u001b[0m | \u001b[1mINFO    \u001b[0m | \u001b[36mtree_models\u001b[0m:\u001b[36mfit\u001b[0m:\u001b[36m153\u001b[0m - \u001b[1mBest parameters #4: {'max_depth': np.int64(2), 'learning_rate': np.float64(0.1)}\u001b[0m\n",
      " 60%|██████    | 12/20 [00:10<00:07,  1.14it/s]\u001b[32m2025-03-15 18:03:41.558\u001b[0m | \u001b[1mINFO    \u001b[0m | \u001b[36mtree_models\u001b[0m:\u001b[36mfit\u001b[0m:\u001b[36m153\u001b[0m - \u001b[1mBest parameters #5: {'max_depth': np.int64(3), 'learning_rate': np.float64(0.1)}\u001b[0m\n",
      "\u001b[32m2025-03-15 18:03:41.567\u001b[0m | \u001b[1mINFO    \u001b[0m | \u001b[36mtree_models\u001b[0m:\u001b[36mfit\u001b[0m:\u001b[36m153\u001b[0m - \u001b[1mBest parameters #6: {'max_depth': np.int64(2), 'learning_rate': np.float64(0.2)}\u001b[0m\n",
      "\u001b[32m2025-03-15 18:03:41.579\u001b[0m | \u001b[1mINFO    \u001b[0m | \u001b[36mtree_models\u001b[0m:\u001b[36mfit\u001b[0m:\u001b[36m153\u001b[0m - \u001b[1mBest parameters #7: {'max_depth': np.int64(3), 'learning_rate': np.float64(0.2)}\u001b[0m\n",
      "\u001b[32m2025-03-15 18:03:41.795\u001b[0m | \u001b[1mINFO    \u001b[0m | \u001b[36mtree_models\u001b[0m:\u001b[36mfit\u001b[0m:\u001b[36m153\u001b[0m - \u001b[1mBest parameters #2: {'max_depth': np.int64(2), 'learning_rate': np.float64(0.05)}\u001b[0m\n",
      "\u001b[32m2025-03-15 18:03:41.804\u001b[0m | \u001b[1mINFO    \u001b[0m | \u001b[36mtree_models\u001b[0m:\u001b[36mfit\u001b[0m:\u001b[36m153\u001b[0m - \u001b[1mBest parameters #8: {'max_depth': np.int64(2), 'learning_rate': np.float64(0.02)}\u001b[0m\n",
      "\u001b[32m2025-03-15 18:03:41.817\u001b[0m | \u001b[1mINFO    \u001b[0m | \u001b[36mtree_models\u001b[0m:\u001b[36mfit\u001b[0m:\u001b[36m153\u001b[0m - \u001b[1mBest parameters #1: {'max_depth': np.int64(3), 'learning_rate': np.float64(0.02)}\u001b[0m\n",
      " 65%|██████▌   | 13/20 [00:11<00:06,  1.14it/s]\u001b[32m2025-03-15 18:03:42.429\u001b[0m | \u001b[1mINFO    \u001b[0m | \u001b[36mtree_models\u001b[0m:\u001b[36mfit\u001b[0m:\u001b[36m153\u001b[0m - \u001b[1mBest parameters #6: {'max_depth': np.int64(2), 'learning_rate': np.float64(0.2)}\u001b[0m\n",
      "\u001b[32m2025-03-15 18:03:42.437\u001b[0m | \u001b[1mINFO    \u001b[0m | \u001b[36mtree_models\u001b[0m:\u001b[36mfit\u001b[0m:\u001b[36m153\u001b[0m - \u001b[1mBest parameters #7: {'max_depth': np.int64(3), 'learning_rate': np.float64(0.2)}\u001b[0m\n",
      "\u001b[32m2025-03-15 18:03:42.448\u001b[0m | \u001b[1mINFO    \u001b[0m | \u001b[36mtree_models\u001b[0m:\u001b[36mfit\u001b[0m:\u001b[36m153\u001b[0m - \u001b[1mBest parameters #8: {'max_depth': np.int64(3), 'learning_rate': np.float64(0.1)}\u001b[0m\n",
      "\u001b[32m2025-03-15 18:03:42.669\u001b[0m | \u001b[1mINFO    \u001b[0m | \u001b[36mtree_models\u001b[0m:\u001b[36mfit\u001b[0m:\u001b[36m153\u001b[0m - \u001b[1mBest parameters #0: {'max_depth': np.int64(2), 'learning_rate': np.float64(0.02)}\u001b[0m\n",
      "\u001b[32m2025-03-15 18:03:42.682\u001b[0m | \u001b[1mINFO    \u001b[0m | \u001b[36mtree_models\u001b[0m:\u001b[36mfit\u001b[0m:\u001b[36m153\u001b[0m - \u001b[1mBest parameters #9: {'max_depth': np.int64(2), 'learning_rate': np.float64(0.05)}\u001b[0m\n",
      "\u001b[32m2025-03-15 18:03:42.692\u001b[0m | \u001b[1mINFO    \u001b[0m | \u001b[36mtree_models\u001b[0m:\u001b[36mfit\u001b[0m:\u001b[36m153\u001b[0m - \u001b[1mBest parameters #10: {'max_depth': np.int64(2), 'learning_rate': np.float64(0.02)}\u001b[0m\n",
      " 70%|███████   | 14/20 [00:12<00:05,  1.15it/s]\u001b[32m2025-03-15 18:03:43.286\u001b[0m | \u001b[1mINFO    \u001b[0m | \u001b[36mtree_models\u001b[0m:\u001b[36mfit\u001b[0m:\u001b[36m153\u001b[0m - \u001b[1mBest parameters #9: {'max_depth': np.int64(2), 'learning_rate': np.float64(0.2)}\u001b[0m\n",
      "\u001b[32m2025-03-15 18:03:43.293\u001b[0m | \u001b[1mINFO    \u001b[0m | \u001b[36mtree_models\u001b[0m:\u001b[36mfit\u001b[0m:\u001b[36m153\u001b[0m - \u001b[1mBest parameters #10: {'max_depth': np.int64(3), 'learning_rate': np.float64(0.2)}\u001b[0m\n",
      "\u001b[32m2025-03-15 18:03:43.299\u001b[0m | \u001b[1mINFO    \u001b[0m | \u001b[36mtree_models\u001b[0m:\u001b[36mfit\u001b[0m:\u001b[36m153\u001b[0m - \u001b[1mBest parameters #8: {'max_depth': np.int64(3), 'learning_rate': np.float64(0.1)}\u001b[0m\n",
      "\u001b[32m2025-03-15 18:03:43.537\u001b[0m | \u001b[1mINFO    \u001b[0m | \u001b[36mtree_models\u001b[0m:\u001b[36mfit\u001b[0m:\u001b[36m153\u001b[0m - \u001b[1mBest parameters #9: {'max_depth': np.int64(2), 'learning_rate': np.float64(0.02)}\u001b[0m\n",
      "\u001b[32m2025-03-15 18:03:43.545\u001b[0m | \u001b[1mINFO    \u001b[0m | \u001b[36mtree_models\u001b[0m:\u001b[36mfit\u001b[0m:\u001b[36m153\u001b[0m - \u001b[1mBest parameters #8: {'max_depth': np.int64(2), 'learning_rate': np.float64(0.05)}\u001b[0m\n",
      "\u001b[32m2025-03-15 18:03:43.552\u001b[0m | \u001b[1mINFO    \u001b[0m | \u001b[36mtree_models\u001b[0m:\u001b[36mfit\u001b[0m:\u001b[36m153\u001b[0m - \u001b[1mBest parameters #10: {'max_depth': np.int64(3), 'learning_rate': np.float64(0.02)}\u001b[0m\n",
      " 75%|███████▌  | 15/20 [00:13<00:04,  1.15it/s]\u001b[32m2025-03-15 18:03:44.178\u001b[0m | \u001b[1mINFO    \u001b[0m | \u001b[36mtree_models\u001b[0m:\u001b[36mfit\u001b[0m:\u001b[36m153\u001b[0m - \u001b[1mBest parameters #6: {'max_depth': np.int64(2), 'learning_rate': np.float64(0.2)}\u001b[0m\n",
      "\u001b[32m2025-03-15 18:03:44.184\u001b[0m | \u001b[1mINFO    \u001b[0m | \u001b[36mtree_models\u001b[0m:\u001b[36mfit\u001b[0m:\u001b[36m153\u001b[0m - \u001b[1mBest parameters #7: {'max_depth': np.int64(3), 'learning_rate': np.float64(0.2)}\u001b[0m\n",
      "\u001b[32m2025-03-15 18:03:44.196\u001b[0m | \u001b[1mINFO    \u001b[0m | \u001b[36mtree_models\u001b[0m:\u001b[36mfit\u001b[0m:\u001b[36m153\u001b[0m - \u001b[1mBest parameters #8: {'max_depth': np.int64(3), 'learning_rate': np.float64(0.1)}\u001b[0m\n",
      "\u001b[32m2025-03-15 18:03:44.433\u001b[0m | \u001b[1mINFO    \u001b[0m | \u001b[36mtree_models\u001b[0m:\u001b[36mfit\u001b[0m:\u001b[36m153\u001b[0m - \u001b[1mBest parameters #10: {'max_depth': np.int64(2), 'learning_rate': np.float64(0.02)}\u001b[0m\n",
      "\u001b[32m2025-03-15 18:03:44.441\u001b[0m | \u001b[1mINFO    \u001b[0m | \u001b[36mtree_models\u001b[0m:\u001b[36mfit\u001b[0m:\u001b[36m153\u001b[0m - \u001b[1mBest parameters #9: {'max_depth': np.int64(3), 'learning_rate': np.float64(0.02)}\u001b[0m\n",
      "\u001b[32m2025-03-15 18:03:44.447\u001b[0m | \u001b[1mINFO    \u001b[0m | \u001b[36mtree_models\u001b[0m:\u001b[36mfit\u001b[0m:\u001b[36m153\u001b[0m - \u001b[1mBest parameters #8: {'max_depth': np.int64(2), 'learning_rate': np.float64(0.05)}\u001b[0m\n",
      " 80%|████████  | 16/20 [00:14<00:03,  1.15it/s]\u001b[32m2025-03-15 18:03:45.012\u001b[0m | \u001b[1mINFO    \u001b[0m | \u001b[36mtree_models\u001b[0m:\u001b[36mfit\u001b[0m:\u001b[36m153\u001b[0m - \u001b[1mBest parameters #5: {'max_depth': np.int64(3), 'learning_rate': np.float64(0.1)}\u001b[0m\n",
      "\u001b[32m2025-03-15 18:03:45.020\u001b[0m | \u001b[1mINFO    \u001b[0m | \u001b[36mtree_models\u001b[0m:\u001b[36mfit\u001b[0m:\u001b[36m153\u001b[0m - \u001b[1mBest parameters #6: {'max_depth': np.int64(2), 'learning_rate': np.float64(0.2)}\u001b[0m\n",
      "\u001b[32m2025-03-15 18:03:45.033\u001b[0m | \u001b[1mINFO    \u001b[0m | \u001b[36mtree_models\u001b[0m:\u001b[36mfit\u001b[0m:\u001b[36m153\u001b[0m - \u001b[1mBest parameters #7: {'max_depth': np.int64(3), 'learning_rate': np.float64(0.2)}\u001b[0m\n",
      "\u001b[32m2025-03-15 18:03:45.272\u001b[0m | \u001b[1mINFO    \u001b[0m | \u001b[36mtree_models\u001b[0m:\u001b[36mfit\u001b[0m:\u001b[36m153\u001b[0m - \u001b[1mBest parameters #7: {'max_depth': np.int64(3), 'learning_rate': np.float64(0.2)}\u001b[0m\n",
      "\u001b[32m2025-03-15 18:03:45.279\u001b[0m | \u001b[1mINFO    \u001b[0m | \u001b[36mtree_models\u001b[0m:\u001b[36mfit\u001b[0m:\u001b[36m153\u001b[0m - \u001b[1mBest parameters #5: {'max_depth': np.int64(3), 'learning_rate': np.float64(0.1)}\u001b[0m\n",
      "\u001b[32m2025-03-15 18:03:45.288\u001b[0m | \u001b[1mINFO    \u001b[0m | \u001b[36mtree_models\u001b[0m:\u001b[36mfit\u001b[0m:\u001b[36m153\u001b[0m - \u001b[1mBest parameters #3: {'max_depth': np.int64(3), 'learning_rate': np.float64(0.05)}\u001b[0m\n",
      " 85%|████████▌ | 17/20 [00:14<00:02,  1.16it/s]\u001b[32m2025-03-15 18:03:45.853\u001b[0m | \u001b[1mINFO    \u001b[0m | \u001b[36mtree_models\u001b[0m:\u001b[36mfit\u001b[0m:\u001b[36m153\u001b[0m - \u001b[1mBest parameters #9: {'max_depth': np.int64(2), 'learning_rate': np.float64(0.2)}\u001b[0m\n",
      "\u001b[32m2025-03-15 18:03:45.859\u001b[0m | \u001b[1mINFO    \u001b[0m | \u001b[36mtree_models\u001b[0m:\u001b[36mfit\u001b[0m:\u001b[36m153\u001b[0m - \u001b[1mBest parameters #10: {'max_depth': np.int64(3), 'learning_rate': np.float64(0.2)}\u001b[0m\n",
      "\u001b[32m2025-03-15 18:03:45.876\u001b[0m | \u001b[1mINFO    \u001b[0m | \u001b[36mtree_models\u001b[0m:\u001b[36mfit\u001b[0m:\u001b[36m153\u001b[0m - \u001b[1mBest parameters #8: {'max_depth': np.int64(3), 'learning_rate': np.float64(0.1)}\u001b[0m\n",
      "\u001b[32m2025-03-15 18:03:46.098\u001b[0m | \u001b[1mINFO    \u001b[0m | \u001b[36mtree_models\u001b[0m:\u001b[36mfit\u001b[0m:\u001b[36m153\u001b[0m - \u001b[1mBest parameters #8: {'max_depth': np.int64(3), 'learning_rate': np.float64(0.05)}\u001b[0m\n",
      "\u001b[32m2025-03-15 18:03:46.108\u001b[0m | \u001b[1mINFO    \u001b[0m | \u001b[36mtree_models\u001b[0m:\u001b[36mfit\u001b[0m:\u001b[36m153\u001b[0m - \u001b[1mBest parameters #10: {'max_depth': np.int64(2), 'learning_rate': np.float64(0.02)}\u001b[0m\n",
      "\u001b[32m2025-03-15 18:03:46.119\u001b[0m | \u001b[1mINFO    \u001b[0m | \u001b[36mtree_models\u001b[0m:\u001b[36mfit\u001b[0m:\u001b[36m153\u001b[0m - \u001b[1mBest parameters #9: {'max_depth': np.int64(2), 'learning_rate': np.float64(0.05)}\u001b[0m\n",
      " 90%|█████████ | 18/20 [00:15<00:01,  1.17it/s]\u001b[32m2025-03-15 18:03:46.696\u001b[0m | \u001b[1mINFO    \u001b[0m | \u001b[36mtree_models\u001b[0m:\u001b[36mfit\u001b[0m:\u001b[36m153\u001b[0m - \u001b[1mBest parameters #5: {'max_depth': np.int64(3), 'learning_rate': np.float64(0.1)}\u001b[0m\n",
      "\u001b[32m2025-03-15 18:03:46.704\u001b[0m | \u001b[1mINFO    \u001b[0m | \u001b[36mtree_models\u001b[0m:\u001b[36mfit\u001b[0m:\u001b[36m153\u001b[0m - \u001b[1mBest parameters #6: {'max_depth': np.int64(2), 'learning_rate': np.float64(0.2)}\u001b[0m\n",
      "\u001b[32m2025-03-15 18:03:46.711\u001b[0m | \u001b[1mINFO    \u001b[0m | \u001b[36mtree_models\u001b[0m:\u001b[36mfit\u001b[0m:\u001b[36m153\u001b[0m - \u001b[1mBest parameters #7: {'max_depth': np.int64(3), 'learning_rate': np.float64(0.2)}\u001b[0m\n",
      "\u001b[32m2025-03-15 18:03:46.947\u001b[0m | \u001b[1mINFO    \u001b[0m | \u001b[36mtree_models\u001b[0m:\u001b[36mfit\u001b[0m:\u001b[36m153\u001b[0m - \u001b[1mBest parameters #8: {'max_depth': np.int64(2), 'learning_rate': np.float64(0.05)}\u001b[0m\n",
      "\u001b[32m2025-03-15 18:03:46.956\u001b[0m | \u001b[1mINFO    \u001b[0m | \u001b[36mtree_models\u001b[0m:\u001b[36mfit\u001b[0m:\u001b[36m153\u001b[0m - \u001b[1mBest parameters #10: {'max_depth': np.int64(2), 'learning_rate': np.float64(0.02)}\u001b[0m\n",
      "\u001b[32m2025-03-15 18:03:46.967\u001b[0m | \u001b[1mINFO    \u001b[0m | \u001b[36mtree_models\u001b[0m:\u001b[36mfit\u001b[0m:\u001b[36m153\u001b[0m - \u001b[1mBest parameters #9: {'max_depth': np.int64(3), 'learning_rate': np.float64(0.02)}\u001b[0m\n",
      " 95%|█████████▌| 19/20 [00:16<00:00,  1.17it/s]\u001b[32m2025-03-15 18:03:47.558\u001b[0m | \u001b[1mINFO    \u001b[0m | \u001b[36mtree_models\u001b[0m:\u001b[36mfit\u001b[0m:\u001b[36m153\u001b[0m - \u001b[1mBest parameters #9: {'max_depth': np.int64(2), 'learning_rate': np.float64(0.2)}\u001b[0m\n",
      "\u001b[32m2025-03-15 18:03:47.564\u001b[0m | \u001b[1mINFO    \u001b[0m | \u001b[36mtree_models\u001b[0m:\u001b[36mfit\u001b[0m:\u001b[36m153\u001b[0m - \u001b[1mBest parameters #10: {'max_depth': np.int64(3), 'learning_rate': np.float64(0.2)}\u001b[0m\n",
      "\u001b[32m2025-03-15 18:03:47.578\u001b[0m | \u001b[1mINFO    \u001b[0m | \u001b[36mtree_models\u001b[0m:\u001b[36mfit\u001b[0m:\u001b[36m153\u001b[0m - \u001b[1mBest parameters #8: {'max_depth': np.int64(3), 'learning_rate': np.float64(0.1)}\u001b[0m\n",
      "\u001b[32m2025-03-15 18:03:47.805\u001b[0m | \u001b[1mINFO    \u001b[0m | \u001b[36mtree_models\u001b[0m:\u001b[36mfit\u001b[0m:\u001b[36m153\u001b[0m - \u001b[1mBest parameters #10: {'max_depth': np.int64(3), 'learning_rate': np.float64(0.02)}\u001b[0m\n",
      "\u001b[32m2025-03-15 18:03:47.815\u001b[0m | \u001b[1mINFO    \u001b[0m | \u001b[36mtree_models\u001b[0m:\u001b[36mfit\u001b[0m:\u001b[36m153\u001b[0m - \u001b[1mBest parameters #9: {'max_depth': np.int64(2), 'learning_rate': np.float64(0.02)}\u001b[0m\n",
      "\u001b[32m2025-03-15 18:03:47.823\u001b[0m | \u001b[1mINFO    \u001b[0m | \u001b[36mtree_models\u001b[0m:\u001b[36mfit\u001b[0m:\u001b[36m153\u001b[0m - \u001b[1mBest parameters #8: {'max_depth': np.int64(2), 'learning_rate': np.float64(0.05)}\u001b[0m\n",
      "100%|██████████| 20/20 [00:17<00:00,  1.15it/s]"
     ]
    },
    {
     "name": "stdout",
     "output_type": "stream",
     "text": [
      "                   Model        Train MSE         Test MSE\n",
      "3           XGBRegressor  0.5471 ± 0.1107  0.7207 ± 0.0457\n",
      "2  RandomForestRegressor  0.5397 ± 0.0220  0.7240 ± 0.0413\n",
      "1                   MISO  0.5809 ± 0.0445  0.7329 ± 0.0439\n",
      "0          LGBMRegressor  0.3161 ± 0.0235  0.7493 ± 0.0404\n"
     ]
    },
    {
     "name": "stderr",
     "output_type": "stream",
     "text": [
      "\n"
     ]
    }
   ],
   "source": [
    "# players = {\n",
    "#     # Classical methods\n",
    "#     # \"LinearRegression\": lambda x, _: wrap(LinearRegression()),\n",
    "#     \"Ridge(1/(2n))\": lambda x, _: wrap(Ridge(1 / (2 * len(x)))),\n",
    "#     \"Isotonic(Ridge)\": lambda x, _: wrap(Ridge(1 / (2 * len(x))), isotonic=True),\n",
    "#     # \"RidgeCV(cv=10)\": lambda x, _: wrap(\n",
    "#     #     RidgeCV(alphas=10 ** np.linspace(-4, 2, 20), cv=10)\n",
    "#     # ),\n",
    "#     # \"LassoCV(cv=10)\": lambda x, _: wrap(LassoCV(cv=10)),\n",
    "#     \"ARDRegression\": lambda x, _: wrap(ARDRegression()),\n",
    "#     \"Isotonic(ARDRegression)\": lambda x, _: wrap(ARDRegression(), isotonic=True),\n",
    "#     # Modifications\n",
    "#     # \"Ridge\": lambda x, _: wrap(Ridge(1 / (2 * len(x))), feats=\"id\", outliers=\"id\"),\n",
    "#     # \"Ridge+BFS\": lambda x, _: wrap(Ridge(1 / (2 * len(x))), feats=\"bfs\", outliers=\"id\"),\n",
    "#     # # \"Ridge+RFS\": lambda x, _: wrap(Ridge(1 / (2 * len(x))), feats=\"rfs\", outliers=\"id\"),\n",
    "#     # \"Ridge+Robust\": lambda x, _: wrap(\n",
    "#     #     Ridge(1 / (2 * len(x))), feats=\"id\", outliers=\"robust\"\n",
    "#     # ),\n",
    "#     # \"Ridge+BFS+Robust\": lambda x, _: wrap(\n",
    "#     #     Ridge(1 / (2 * len(x))), feats=\"bfs\", outliers=\"robust\"\n",
    "#     # ),\n",
    "#     # \"ARDRegression+Robust\": lambda x, _: wrap(\n",
    "#     #     ARDRegression(), feats=\"id\", outliers=\"robust\"\n",
    "#     # ),\n",
    "#     # \"Ridge+RFS+Robust\": lambda x, _: wrap(\n",
    "#     #     Ridge(1 / (2 * len(x))), feats=\"rfs\", outliers=\"robust\"\n",
    "#     # ),\n",
    "#     # \"BFS(add_singles=True)\": lambda x, _: BFS(\n",
    "#     #     wrap(Ridge(1 / (2 * len(x)))), add_singles=True\n",
    "#     # ),\n",
    "#     \"BFS(add_singles=False)\": lambda x, _: BFS(\n",
    "#         wrap(Lasso(1 / (2 * len(x)))), add_singles=False\n",
    "#     ),\n",
    "#     \"Isotonic(BFS(add_singles=False))\": lambda x, _: wrap(\n",
    "#         BFS(Lasso(1 / (2 * len(x))), add_singles=False),\n",
    "#         isotonic=True,\n",
    "#     ),\n",
    "#     # \"BFS(add_singles=True, final=lasso_cv)\": lambda x, _: BFS(\n",
    "#     #     wrap(Ridge(1 / (2 * len(x)))), add_singles=True, final=\"lasso_cv\"\n",
    "#     # ),\n",
    "#     \"BFS(add_singles=False, final=lasso_cv)\": lambda x, _: BFS(\n",
    "#         wrap(Lasso(1 / (2 * len(x)))), add_singles=False, final=\"lasso_cv\"\n",
    "#     ),\n",
    "#     # \"BFS(add_singles=True, final=lasso)\": lambda x, _: BFS(\n",
    "#     #     wrap(Ridge(1 / (2 * len(x)))), add_singles=True, final=\"lasso\"\n",
    "#     # ),\n",
    "#     \"BFS(add_singles=False, final=lasso)\": lambda x, _: BFS(\n",
    "#         wrap(Lasso(1 / (2 * len(x)))), add_singles=False, final=\"lasso\"\n",
    "#     ),\n",
    "\n",
    "players = {\n",
    "    \"RandomForestRegressor\": lambda x, _: wrap(\n",
    "        RandomForestRegressor(max_depth=4), scale=\"id\"\n",
    "    ),\n",
    "    \"LGBMRegressor\": lambda x, _: HCV(LGBMRegressor()),\n",
    "    \"XGBRegressor\": lambda x, _: HCV(XGBRegressor()),\n",
    "    \"MISO\": lambda x, _: MISO(),\n",
    "}\n",
    "\n",
    "model_names = list(players.keys())\n",
    "\n",
    "# X, y = load_dataset(\"concrete\")\n",
    "X, y = load_dataset(\"student_performance\")\n",
    "\n",
    "results = []\n",
    "n_runs = 20\n",
    "for run in tqdm(range(n_runs)):\n",
    "    X_train, y_train, X_test, y_test = split_data(\n",
    "        X, y, test_size=0.5, bad_features=False\n",
    "    )\n",
    "    models = [players[name](X_train, y_train) for name in model_names]\n",
    "\n",
    "    for i, (name, model) in enumerate(zip(model_names, models)):\n",
    "        with Silencer():\n",
    "            model.fit(X_train, y_train)\n",
    "            train_pred = model.predict(X_train)\n",
    "            test_pred = model.predict(X_test)\n",
    "        train_mse = np.square(train_pred - y_train).mean()\n",
    "        test_mse = np.square(test_pred - y_test).mean()\n",
    "        results.append(\n",
    "            {\"Model\": name, \"Train MSE\": train_mse, \"Test MSE\": test_mse, \"Run\": run}\n",
    "        )\n",
    "\n",
    "df_all = pd.DataFrame(results)\n",
    "df = (\n",
    "    df_all.groupby(\"Model\")\n",
    "    .agg(\n",
    "        Train_MSE_mean=(\"Train MSE\", \"mean\"),\n",
    "        Train_MSE_std=(\"Train MSE\", \"std\"),\n",
    "        Test_MSE_mean=(\"Test MSE\", \"mean\"),\n",
    "        Test_MSE_std=(\"Test MSE\", \"std\"),\n",
    "    )\n",
    "    .reset_index()\n",
    ")\n",
    "\n",
    "df[\"Train MSE\"] = df.apply(\n",
    "    lambda x: f\"{x['Train_MSE_mean']:.4f} ± {x['Train_MSE_std']:.4f}\", axis=1\n",
    ")\n",
    "df[\"Test MSE\"] = df.apply(\n",
    "    lambda x: f\"{x['Test_MSE_mean']:.4f} ± {x['Test_MSE_std']:.4f}\", axis=1\n",
    ")\n",
    "df = df[[\"Model\", \"Train MSE\", \"Test MSE\"]]\n",
    "print(df.sort_values(by=\"Test MSE\"))\n"
   ]
  },
  {
   "cell_type": "code",
   "execution_count": 5,
   "metadata": {},
   "outputs": [
    {
     "name": "stderr",
     "output_type": "stream",
     "text": [
      "\u001b[32m2025-03-15 17:25:25.238\u001b[0m | \u001b[1mINFO    \u001b[0m | \u001b[36mtree_models\u001b[0m:\u001b[36mfit\u001b[0m:\u001b[36m149\u001b[0m - \u001b[1mBest parameters #29: {'max_depth': np.int64(2), 'learning_rate': np.float64(0.02)}\u001b[0m\n",
      "\u001b[32m2025-03-15 17:25:25.254\u001b[0m | \u001b[1mINFO    \u001b[0m | \u001b[36mtree_models\u001b[0m:\u001b[36mfit\u001b[0m:\u001b[36m149\u001b[0m - \u001b[1mBest parameters #24: {'max_depth': np.int64(4), 'learning_rate': np.float64(0.02)}\u001b[0m\n",
      "\u001b[32m2025-03-15 17:25:25.285\u001b[0m | \u001b[1mINFO    \u001b[0m | \u001b[36mtree_models\u001b[0m:\u001b[36mfit\u001b[0m:\u001b[36m149\u001b[0m - \u001b[1mBest parameters #30: {'max_depth': np.int64(3), 'learning_rate': np.float64(0.02)}\u001b[0m\n",
      "\u001b[32m2025-03-15 17:25:26.293\u001b[0m | \u001b[1mINFO    \u001b[0m | \u001b[36mtree_models\u001b[0m:\u001b[36mfit\u001b[0m:\u001b[36m149\u001b[0m - \u001b[1mBest parameters #27: {'max_depth': np.int64(2), 'learning_rate': np.float64(0.05)}\u001b[0m\n",
      "\u001b[32m2025-03-15 17:25:26.341\u001b[0m | \u001b[1mINFO    \u001b[0m | \u001b[36mtree_models\u001b[0m:\u001b[36mfit\u001b[0m:\u001b[36m149\u001b[0m - \u001b[1mBest parameters #28: {'max_depth': np.int64(4), 'learning_rate': np.float64(0.02)}\u001b[0m\n",
      "\u001b[32m2025-03-15 17:25:26.428\u001b[0m | \u001b[1mINFO    \u001b[0m | \u001b[36mtree_models\u001b[0m:\u001b[36mfit\u001b[0m:\u001b[36m149\u001b[0m - \u001b[1mBest parameters #29: {'max_depth': np.int64(3), 'learning_rate': np.float64(0.02)}\u001b[0m\n",
      "\u001b[32m2025-03-15 17:25:27.918\u001b[0m | \u001b[1mINFO    \u001b[0m | \u001b[36mtree_models\u001b[0m:\u001b[36mfit\u001b[0m:\u001b[36m149\u001b[0m - \u001b[1mBest parameters #29: {'max_depth': np.int64(2), 'learning_rate': np.float64(0.02)}\u001b[0m\n",
      "\u001b[32m2025-03-15 17:25:27.930\u001b[0m | \u001b[1mINFO    \u001b[0m | \u001b[36mtree_models\u001b[0m:\u001b[36mfit\u001b[0m:\u001b[36m149\u001b[0m - \u001b[1mBest parameters #24: {'max_depth': np.int64(4), 'learning_rate': np.float64(0.02)}\u001b[0m\n",
      "\u001b[32m2025-03-15 17:25:27.952\u001b[0m | \u001b[1mINFO    \u001b[0m | \u001b[36mtree_models\u001b[0m:\u001b[36mfit\u001b[0m:\u001b[36m149\u001b[0m - \u001b[1mBest parameters #30: {'max_depth': np.int64(3), 'learning_rate': np.float64(0.02)}\u001b[0m\n",
      "\u001b[32m2025-03-15 17:25:28.748\u001b[0m | \u001b[1mINFO    \u001b[0m | \u001b[36mtree_models\u001b[0m:\u001b[36mfit\u001b[0m:\u001b[36m149\u001b[0m - \u001b[1mBest parameters #27: {'max_depth': np.int64(2), 'learning_rate': np.float64(0.05)}\u001b[0m\n",
      "\u001b[32m2025-03-15 17:25:28.777\u001b[0m | \u001b[1mINFO    \u001b[0m | \u001b[36mtree_models\u001b[0m:\u001b[36mfit\u001b[0m:\u001b[36m149\u001b[0m - \u001b[1mBest parameters #28: {'max_depth': np.int64(4), 'learning_rate': np.float64(0.02)}\u001b[0m\n",
      "\u001b[32m2025-03-15 17:25:28.830\u001b[0m | \u001b[1mINFO    \u001b[0m | \u001b[36mtree_models\u001b[0m:\u001b[36mfit\u001b[0m:\u001b[36m149\u001b[0m - \u001b[1mBest parameters #29: {'max_depth': np.int64(3), 'learning_rate': np.float64(0.02)}\u001b[0m\n",
      "\u001b[32m2025-03-15 17:25:30.032\u001b[0m | \u001b[1mINFO    \u001b[0m | \u001b[36mtree_models\u001b[0m:\u001b[36mfit\u001b[0m:\u001b[36m149\u001b[0m - \u001b[1mBest parameters #29: {'max_depth': np.int64(2), 'learning_rate': np.float64(0.02)}\u001b[0m\n",
      "\u001b[32m2025-03-15 17:25:30.044\u001b[0m | \u001b[1mINFO    \u001b[0m | \u001b[36mtree_models\u001b[0m:\u001b[36mfit\u001b[0m:\u001b[36m149\u001b[0m - \u001b[1mBest parameters #24: {'max_depth': np.int64(4), 'learning_rate': np.float64(0.02)}\u001b[0m\n",
      "\u001b[32m2025-03-15 17:25:30.068\u001b[0m | \u001b[1mINFO    \u001b[0m | \u001b[36mtree_models\u001b[0m:\u001b[36mfit\u001b[0m:\u001b[36m149\u001b[0m - \u001b[1mBest parameters #30: {'max_depth': np.int64(3), 'learning_rate': np.float64(0.02)}\u001b[0m\n",
      "\u001b[32m2025-03-15 17:25:30.911\u001b[0m | \u001b[1mINFO    \u001b[0m | \u001b[36mtree_models\u001b[0m:\u001b[36mfit\u001b[0m:\u001b[36m149\u001b[0m - \u001b[1mBest parameters #27: {'max_depth': np.int64(2), 'learning_rate': np.float64(0.05)}\u001b[0m\n",
      "\u001b[32m2025-03-15 17:25:30.957\u001b[0m | \u001b[1mINFO    \u001b[0m | \u001b[36mtree_models\u001b[0m:\u001b[36mfit\u001b[0m:\u001b[36m149\u001b[0m - \u001b[1mBest parameters #28: {'max_depth': np.int64(4), 'learning_rate': np.float64(0.02)}\u001b[0m\n",
      "\u001b[32m2025-03-15 17:25:31.042\u001b[0m | \u001b[1mINFO    \u001b[0m | \u001b[36mtree_models\u001b[0m:\u001b[36mfit\u001b[0m:\u001b[36m149\u001b[0m - \u001b[1mBest parameters #29: {'max_depth': np.int64(3), 'learning_rate': np.float64(0.02)}\u001b[0m\n",
      "\u001b[32m2025-03-15 17:25:32.457\u001b[0m | \u001b[1mINFO    \u001b[0m | \u001b[36mtree_models\u001b[0m:\u001b[36mfit\u001b[0m:\u001b[36m149\u001b[0m - \u001b[1mBest parameters #29: {'max_depth': np.int64(2), 'learning_rate': np.float64(0.02)}\u001b[0m\n",
      "\u001b[32m2025-03-15 17:25:32.474\u001b[0m | \u001b[1mINFO    \u001b[0m | \u001b[36mtree_models\u001b[0m:\u001b[36mfit\u001b[0m:\u001b[36m149\u001b[0m - \u001b[1mBest parameters #24: {'max_depth': np.int64(4), 'learning_rate': np.float64(0.02)}\u001b[0m\n",
      "\u001b[32m2025-03-15 17:25:32.516\u001b[0m | \u001b[1mINFO    \u001b[0m | \u001b[36mtree_models\u001b[0m:\u001b[36mfit\u001b[0m:\u001b[36m149\u001b[0m - \u001b[1mBest parameters #30: {'max_depth': np.int64(3), 'learning_rate': np.float64(0.02)}\u001b[0m\n",
      "\u001b[32m2025-03-15 17:25:33.678\u001b[0m | \u001b[1mINFO    \u001b[0m | \u001b[36mtree_models\u001b[0m:\u001b[36mfit\u001b[0m:\u001b[36m149\u001b[0m - \u001b[1mBest parameters #27: {'max_depth': np.int64(2), 'learning_rate': np.float64(0.05)}\u001b[0m\n",
      "\u001b[32m2025-03-15 17:25:33.710\u001b[0m | \u001b[1mINFO    \u001b[0m | \u001b[36mtree_models\u001b[0m:\u001b[36mfit\u001b[0m:\u001b[36m149\u001b[0m - \u001b[1mBest parameters #28: {'max_depth': np.int64(4), 'learning_rate': np.float64(0.02)}\u001b[0m\n",
      "\u001b[32m2025-03-15 17:25:33.772\u001b[0m | \u001b[1mINFO    \u001b[0m | \u001b[36mtree_models\u001b[0m:\u001b[36mfit\u001b[0m:\u001b[36m149\u001b[0m - \u001b[1mBest parameters #29: {'max_depth': np.int64(3), 'learning_rate': np.float64(0.02)}\u001b[0m\n",
      "\u001b[32m2025-03-15 17:25:34.855\u001b[0m | \u001b[1mINFO    \u001b[0m | \u001b[36mtree_models\u001b[0m:\u001b[36mfit\u001b[0m:\u001b[36m149\u001b[0m - \u001b[1mBest parameters #29: {'max_depth': np.int64(2), 'learning_rate': np.float64(0.02)}\u001b[0m\n",
      "\u001b[32m2025-03-15 17:25:34.866\u001b[0m | \u001b[1mINFO    \u001b[0m | \u001b[36mtree_models\u001b[0m:\u001b[36mfit\u001b[0m:\u001b[36m149\u001b[0m - \u001b[1mBest parameters #24: {'max_depth': np.int64(4), 'learning_rate': np.float64(0.02)}\u001b[0m\n",
      "\u001b[32m2025-03-15 17:25:34.891\u001b[0m | \u001b[1mINFO    \u001b[0m | \u001b[36mtree_models\u001b[0m:\u001b[36mfit\u001b[0m:\u001b[36m149\u001b[0m - \u001b[1mBest parameters #30: {'max_depth': np.int64(3), 'learning_rate': np.float64(0.02)}\u001b[0m\n",
      "\u001b[32m2025-03-15 17:25:35.765\u001b[0m | \u001b[1mINFO    \u001b[0m | \u001b[36mtree_models\u001b[0m:\u001b[36mfit\u001b[0m:\u001b[36m149\u001b[0m - \u001b[1mBest parameters #27: {'max_depth': np.int64(2), 'learning_rate': np.float64(0.05)}\u001b[0m\n",
      "\u001b[32m2025-03-15 17:25:35.806\u001b[0m | \u001b[1mINFO    \u001b[0m | \u001b[36mtree_models\u001b[0m:\u001b[36mfit\u001b[0m:\u001b[36m149\u001b[0m - \u001b[1mBest parameters #28: {'max_depth': np.int64(4), 'learning_rate': np.float64(0.02)}\u001b[0m\n",
      "\u001b[32m2025-03-15 17:25:35.869\u001b[0m | \u001b[1mINFO    \u001b[0m | \u001b[36mtree_models\u001b[0m:\u001b[36mfit\u001b[0m:\u001b[36m149\u001b[0m - \u001b[1mBest parameters #29: {'max_depth': np.int64(3), 'learning_rate': np.float64(0.02)}\u001b[0m\n"
     ]
    },
    {
     "name": "stdout",
     "output_type": "stream",
     "text": [
      "BFS(add_singles=False) fitting time: 1.1760 ± 0.1131 seconds\n",
      "BFS(add_singles=True) fitting time: 1.1468 ± 0.1587 seconds\n"
     ]
    }
   ],
   "source": [
    "import time\n",
    "\n",
    "from arena import Silencer\n",
    "\n",
    "from lightgbm import LGBMRegressor\n",
    "\n",
    "from sklearn.linear_model import LinearRegression\n",
    "from wrappers import BFS\n",
    "\n",
    "# Benchmark fitting time for BFS with different final estimators\n",
    "X_bench, y_bench = X_train.copy(), y_train.copy()\n",
    "n_runs = 5\n",
    "\n",
    "# BFS with ard\n",
    "with_single_times = []\n",
    "without_singles_times = []\n",
    "for _ in range(n_runs):\n",
    "    with Silencer():\n",
    "        start_time = time.time()\n",
    "        with_singles = HCV(XGBRegressor(learning_rate=0.05, max_depth=3))\n",
    "        with_singles.fit(X_bench, y_bench)\n",
    "        with_single_times.append(time.time() - start_time)\n",
    "        start_time = time.time()\n",
    "        without_singles = HCV(LGBMRegressor(learning_rate=0.05, max_depth=3))\n",
    "        without_singles.fit(X_bench, y_bench)\n",
    "        without_singles_times.append(time.time() - start_time)\n",
    "with_single_time_mean = np.mean(with_single_times)\n",
    "with_single_time_std = np.std(with_single_times)\n",
    "without_singles_time_mean = np.mean(without_singles_times)\n",
    "without_singles_time_std = np.std(without_singles_times)\n",
    "\n",
    "\n",
    "print(\n",
    "    f\"BFS(add_singles=False) fitting time: {without_singles_time_mean:.4f} ± {without_singles_time_std:.4f} seconds\"\n",
    ")\n",
    "print(\n",
    "    f\"BFS(add_singles=True) fitting time: {with_single_time_mean:.4f} ± {with_single_time_std:.4f} seconds\"\n",
    ")\n"
   ]
  },
  {
   "cell_type": "code",
   "execution_count": 5,
   "metadata": {},
   "outputs": [
    {
     "ename": "AttributeError",
     "evalue": "'HCV' object has no attribute 'meta_estimator_'",
     "output_type": "error",
     "traceback": [
      "\u001b[0;31m---------------------------------------------------------------------------\u001b[0m",
      "\u001b[0;31mAttributeError\u001b[0m                            Traceback (most recent call last)",
      "Cell \u001b[0;32mIn[5], line 4\u001b[0m\n\u001b[1;32m      2\u001b[0m \u001b[38;5;28;01mfor\u001b[39;00m i \u001b[38;5;129;01min\u001b[39;00m \u001b[38;5;28mrange\u001b[39m(\u001b[38;5;241m2\u001b[39m, \u001b[38;5;28mlen\u001b[39m(models)):\n\u001b[1;32m      3\u001b[0m     name \u001b[38;5;241m=\u001b[39m model_names[i]\n\u001b[0;32m----> 4\u001b[0m     meta_coef \u001b[38;5;241m=\u001b[39m \u001b[43mmodels\u001b[49m\u001b[43m[\u001b[49m\u001b[43mi\u001b[49m\u001b[43m]\u001b[49m\u001b[38;5;241;43m.\u001b[39;49m\u001b[43mmeta_estimator_\u001b[49m[\u001b[38;5;241m1\u001b[39m]\u001b[38;5;241m.\u001b[39mcoef_\n\u001b[1;32m      5\u001b[0m     intercept \u001b[38;5;241m=\u001b[39m models[i]\u001b[38;5;241m.\u001b[39mmeta_estimator_[\u001b[38;5;241m1\u001b[39m]\u001b[38;5;241m.\u001b[39mintercept_\n\u001b[1;32m      6\u001b[0m     \u001b[38;5;28mprint\u001b[39m(name, meta_coef \u001b[38;5;241m/\u001b[39m np\u001b[38;5;241m.\u001b[39msum(meta_coef), np\u001b[38;5;241m.\u001b[39msum(meta_coef), intercept)\n",
      "\u001b[0;31mAttributeError\u001b[0m: 'HCV' object has no attribute 'meta_estimator_'"
     ]
    }
   ],
   "source": [
    "np.set_printoptions(suppress=True, precision=6, floatmode=\"fixed\")\n",
    "for i in range(2, len(models)):\n",
    "    name = model_names[i]\n",
    "    meta_coef = models[i].meta_estimator_[1].coef_\n",
    "    intercept = models[i].meta_estimator_[1].intercept_\n",
    "    print(name, meta_coef / np.sum(meta_coef), np.sum(meta_coef), intercept)\n"
   ]
  },
  {
   "cell_type": "code",
   "execution_count": 6,
   "metadata": {},
   "outputs": [],
   "source": [
    "A = models[4]\n",
    "B = models[6]\n"
   ]
  },
  {
   "cell_type": "code",
   "execution_count": 13,
   "metadata": {},
   "outputs": [
    {
     "name": "stdout",
     "output_type": "stream",
     "text": [
      "[ 0.6939171   0.5198963   0.31041625 -0.20310733  0.11226537  0.00358856\n",
      "  0.          0.42565832]\n"
     ]
    }
   ],
   "source": [
    "print(A[1].coef_)\n"
   ]
  },
  {
   "cell_type": "code",
   "execution_count": 16,
   "metadata": {},
   "outputs": [
    {
     "data": {
      "text/plain": [
       "[array([0]),\n",
       " array([0, 4]),\n",
       " array([0, 4, 7]),\n",
       " array([0, 4, 7, 3]),\n",
       " array([0, 4, 7, 3, 6]),\n",
       " array([0, 4, 7, 3, 6, 5]),\n",
       " array([0, 4, 7, 3, 6, 5, 1]),\n",
       " array([0, 4, 7, 3, 6, 5, 1, 2])]"
      ]
     },
     "execution_count": 16,
     "metadata": {},
     "output_type": "execute_result"
    }
   ],
   "source": [
    "B.feature_indices_\n"
   ]
  },
  {
   "cell_type": "code",
   "execution_count": 24,
   "metadata": {},
   "outputs": [
    {
     "name": "stdout",
     "output_type": "stream",
     "text": [
      "[0.000000 0.009541 0.000000 0.000000 0.023721 0.129458 0.319179 0.518100]\n"
     ]
    },
    {
     "data": {
      "text/plain": [
       "array([ 0.476652,  0.316338,  0.155053, -0.219728,  0.126291, -0.042684,\n",
       "       -0.090598,  0.349651])"
      ]
     },
     "execution_count": 24,
     "metadata": {},
     "output_type": "execute_result"
    }
   ],
   "source": [
    "# A[1].coef_\n",
    "np.set_printoptions(suppress=True, precision=6, floatmode=\"fixed\")\n",
    "\n",
    "meta_coef = B.meta_estimator_[1].coef_\n",
    "print(meta_coef / np.sum(meta_coef))\n",
    "total_coef = np.zeros(X_train.shape[1])\n",
    "for i, meta_w in enumerate(meta_coef):\n",
    "    feats = B.feature_indices_[i]\n",
    "    weights = B.estimators_[i][1].coef_\n",
    "    total_coef[feats] += weights * meta_w\n",
    "total_coef\n"
   ]
  },
  {
   "cell_type": "code",
   "execution_count": 7,
   "metadata": {},
   "outputs": [],
   "source": [
    "def EDA(name):\n",
    "    X, y = load_dataset(name)\n",
    "    assert isinstance(X, np.ndarray) and isinstance(y, np.ndarray)\n",
    "    n_samples, n_features = X.shape\n",
    "    assert y.shape == (n_samples,)\n",
    "    print(f\"{n_samples} samples, {n_features} features\")\n",
    "    k = 10\n",
    "    subset = np.random.choice(n_samples, k)\n",
    "    for i in range(n_features):\n",
    "        n_unique = len(np.unique(X[:, i]))\n",
    "        mn, mx = np.min(X[:, i]), np.max(X[:, i])\n",
    "        mean = np.mean(X[:, i])\n",
    "        std = np.std(X[:, i])\n",
    "        C = 8\n",
    "        sample = [int(C * x) / C for x in sorted(X[subset, i].tolist())]\n",
    "        correlation = np.corrcoef(X[:, i], y)[0, 1]\n",
    "        mutual_info = mutual_info_regression(X[:, i].reshape(-1, 1), y)[0]\n",
    "        print(\n",
    "            f\"#{i}: {mn:.2f}..({mean:.2f} ± {std:.2f})..{mx:.2f}, {n_unique} unique, {sample} | C={correlation:.2f}, MI={mutual_info:.2f}\"\n",
    "        )\n"
   ]
  },
  {
   "cell_type": "code",
   "execution_count": null,
   "metadata": {},
   "outputs": [
    {
     "name": "stdout",
     "output_type": "stream",
     "text": [
      "536 samples, 8 features\n",
      "#0: 0.00..(267.50 ± 154.73)..535.00, 536 unique, [6.0, 75.0, 108.0, 199.0, 366.0, 433.0, 444.0, 506.0, 506.0, 525.0] | C=-0.03, MI=0.05\n",
      "#1: -0.05..(0.00 ± 0.01)..0.07, 519 unique, [0.0, 0.0, 0.0, 0.0, 0.0, 0.0, 0.0, 0.0, 0.0, 0.0] | C=0.44, MI=0.09\n",
      "#2: -0.05..(0.00 ± 0.01)..0.06, 527 unique, [0.0, 0.0, 0.0, 0.0, 0.0, 0.0, 0.0, 0.0, 0.0, 0.0] | C=0.60, MI=0.21\n",
      "#3: -0.05..(0.00 ± 0.01)..0.05, 523 unique, [0.0, 0.0, 0.0, 0.0, 0.0, 0.0, 0.0, 0.0, 0.0, 0.0] | C=0.62, MI=0.26\n",
      "#4: -0.05..(0.00 ± 0.01)..0.06, 503 unique, [0.0, 0.0, 0.0, 0.0, 0.0, 0.0, 0.0, 0.0, 0.0, 0.0] | C=0.26, MI=0.00\n",
      "#5: -0.05..(0.00 ± 0.02)..0.06, 508 unique, [0.0, 0.0, 0.0, 0.0, 0.0, 0.0, 0.0, 0.0, 0.0, 0.0] | C=0.43, MI=0.06\n",
      "#6: -0.05..(0.00 ± 0.01)..0.07, 532 unique, [0.0, 0.0, 0.0, 0.0, 0.0, 0.0, 0.0, 0.0, 0.0, 0.0] | C=0.66, MI=0.24\n",
      "#7: -0.04..(0.00 ± 0.01)..0.05, 536 unique, [0.0, 0.0, 0.0, 0.0, 0.0, 0.0, 0.0, 0.0, 0.0, 0.0] | C=0.60, MI=0.23\n"
     ]
    }
   ],
   "source": [
    "EDA(\"istanbul_stock_exchange\")\n"
   ]
  }
 ],
 "metadata": {
  "kernelspec": {
   "display_name": ".venv",
   "language": "python",
   "name": "python3"
  },
  "language_info": {
   "codemirror_mode": {
    "name": "ipython",
    "version": 3
   },
   "file_extension": ".py",
   "mimetype": "text/x-python",
   "name": "python",
   "nbconvert_exporter": "python",
   "pygments_lexer": "ipython3",
   "version": "3.10.16"
  }
 },
 "nbformat": 4,
 "nbformat_minor": 2
}
