{
 "cells": [
  {
   "cell_type": "code",
   "execution_count": 3,
   "metadata": {},
   "outputs": [],
   "source": [
    "from pprint import pprint\n",
    "\n",
    "from datasets import id_map, load_dataset\n"
   ]
  },
  {
   "cell_type": "code",
   "execution_count": 5,
   "metadata": {},
   "outputs": [
    {
     "name": "stdout",
     "output_type": "stream",
     "text": [
      "{'student_performance': 320,\n",
      " 'concrete': 165,\n",
      " 'computer_hardware': 29,\n",
      " 'kidney_disease': 857,\n",
      " 'fertility': 244,\n",
      " 'algerian_forest_fires': 547,\n",
      " 'airfoil_self_noise': 291,\n",
      " 'istanbul_stock_exchange': 247}\n"
     ]
    }
   ],
   "source": [
    "pprint(id_map, sort_dicts=False)\n"
   ]
  },
  {
   "cell_type": "code",
   "execution_count": 6,
   "metadata": {},
   "outputs": [
    {
     "name": "stderr",
     "output_type": "stream",
     "text": [
      "\u001b[32m2025-03-14 07:20:52.866\u001b[0m | \u001b[1mINFO    \u001b[0m | \u001b[36mdatasets\u001b[0m:\u001b[36mload_dataset\u001b[0m:\u001b[36m21\u001b[0m - \u001b[1mMetadata: {'uci_id': 320, 'name': 'Student Performance', 'repository_url': 'https://archive.ics.uci.edu/dataset/320/student+performance', 'data_url': 'https://archive.ics.uci.edu/static/public/320/data.csv', 'abstract': 'Predict student performance in secondary education (high school). ', 'area': 'Social Science', 'tasks': ['Classification', 'Regression'], 'characteristics': ['Multivariate'], 'num_instances': 649, 'num_features': 30, 'feature_types': ['Integer'], 'demographics': ['Sex', 'Age', 'Other', 'Education Level', 'Occupation'], 'target_col': ['G1', 'G2', 'G3'], 'index_col': None, 'has_missing_values': 'no', 'missing_values_symbol': None, 'year_of_dataset_creation': 2008, 'last_updated': 'Fri Jan 05 2024', 'dataset_doi': '10.24432/C5TG7T', 'creators': ['Paulo Cortez'], 'intro_paper': {'ID': 360, 'type': 'NATIVE', 'title': 'Using data mining to predict secondary school student performance', 'authors': 'P. Cortez, A. M. G. Silva', 'venue': 'Proceedings of 5th Annual Future Business Technology Conference', 'year': 2008, 'journal': None, 'DOI': None, 'URL': 'https://www.semanticscholar.org/paper/61d468d5254730bbecf822c6b60d7d6595d9889c', 'sha': None, 'corpus': '16621299', 'arxiv': None, 'mag': None, 'acl': None, 'pmid': None, 'pmcid': None}, 'additional_info': {'summary': 'This data approach student achievement in secondary education of two Portuguese schools. The data attributes include student grades, demographic, social and school related features) and it was collected by using school reports and questionnaires. Two datasets are provided regarding the performance in two distinct subjects: Mathematics (mat) and Portuguese language (por). In [Cortez and Silva, 2008], the two datasets were modeled under binary/five-level classification and regression tasks. Important note: the target attribute G3 has a strong correlation with attributes G2 and G1. This occurs because G3 is the final year grade (issued at the 3rd period), while G1 and G2 correspond to the 1st and 2nd period grades. It is more difficult to predict G3 without G2 and G1, but such prediction is much more useful (see paper source for more details).', 'purpose': None, 'funded_by': None, 'instances_represent': None, 'recommended_data_splits': None, 'sensitive_data': None, 'preprocessing_description': None, 'variable_info': \"# Attributes for both student-mat.csv (Math course) and student-por.csv (Portuguese language course) datasets:\\r\\n1 school - student's school (binary: 'GP' - Gabriel Pereira or 'MS' - Mousinho da Silveira)\\r\\n2 sex - student's sex (binary: 'F' - female or 'M' - male)\\r\\n3 age - student's age (numeric: from 15 to 22)\\r\\n4 address - student's home address type (binary: 'U' - urban or 'R' - rural)\\r\\n5 famsize - family size (binary: 'LE3' - less or equal to 3 or 'GT3' - greater than 3)\\r\\n6 Pstatus - parent's cohabitation status (binary: 'T' - living together or 'A' - apart)\\r\\n7 Medu - mother's education (numeric: 0 - none,  1 - primary education (4th grade), 2 â€“ 5th to 9th grade, 3 â€“ secondary education or 4 â€“ higher education)\\r\\n8 Fedu - father's education (numeric: 0 - none,  1 - primary education (4th grade), 2 â€“ 5th to 9th grade, 3 â€“ secondary education or 4 â€“ higher education)\\r\\n9 Mjob - mother's job (nominal: 'teacher', 'health' care related, civil 'services' (e.g. administrative or police), 'at_home' or 'other')\\r\\n10 Fjob - father's job (nominal: 'teacher', 'health' care related, civil 'services' (e.g. administrative or police), 'at_home' or 'other')\\r\\n11 reason - reason to choose this school (nominal: close to 'home', school 'reputation', 'course' preference or 'other')\\r\\n12 guardian - student's guardian (nominal: 'mother', 'father' or 'other')\\r\\n13 traveltime - home to school travel time (numeric: 1 - <15 min., 2 - 15 to 30 min., 3 - 30 min. to 1 hour, or 4 - >1 hour)\\r\\n14 studytime - weekly study time (numeric: 1 - <2 hours, 2 - 2 to 5 hours, 3 - 5 to 10 hours, or 4 - >10 hours)\\r\\n15 failures - number of past class failures (numeric: n if 1<=n<3, else 4)\\r\\n16 schoolsup - extra educational support (binary: yes or no)\\r\\n17 famsup - family educational support (binary: yes or no)\\r\\n18 paid - extra paid classes within the course subject (Math or Portuguese) (binary: yes or no)\\r\\n19 activities - extra-curricular activities (binary: yes or no)\\r\\n20 nursery - attended nursery school (binary: yes or no)\\r\\n21 higher - wants to take higher education (binary: yes or no)\\r\\n22 internet - Internet access at home (binary: yes or no)\\r\\n23 romantic - with a romantic relationship (binary: yes or no)\\r\\n24 famrel - quality of family relationships (numeric: from 1 - very bad to 5 - excellent)\\r\\n25 freetime - free time after school (numeric: from 1 - very low to 5 - very high)\\r\\n26 goout - going out with friends (numeric: from 1 - very low to 5 - very high)\\r\\n27 Dalc - workday alcohol consumption (numeric: from 1 - very low to 5 - very high)\\r\\n28 Walc - weekend alcohol consumption (numeric: from 1 - very low to 5 - very high)\\r\\n29 health - current health status (numeric: from 1 - very bad to 5 - very good)\\r\\n30 absences - number of school absences (numeric: from 0 to 93)\\r\\n\\r\\n# these grades are related with the course subject, Math or Portuguese:\\r\\n31 G1 - first period grade (numeric: from 0 to 20)\\r\\n31 G2 - second period grade (numeric: from 0 to 20)\\r\\n32 G3 - final grade (numeric: from 0 to 20, output target)\", 'citation': None}}\u001b[0m\n",
      "\u001b[32m2025-03-14 07:20:52.872\u001b[0m | \u001b[1mINFO    \u001b[0m | \u001b[36mdatasets\u001b[0m:\u001b[36mload_dataset\u001b[0m:\u001b[36m23\u001b[0m - \u001b[1mVariables:           name     role         type      demographic  \\\n",
      "0       school  Feature  Categorical             None   \n",
      "1          sex  Feature       Binary              Sex   \n",
      "2          age  Feature      Integer              Age   \n",
      "3      address  Feature  Categorical             None   \n",
      "4      famsize  Feature  Categorical            Other   \n",
      "5      Pstatus  Feature  Categorical            Other   \n",
      "6         Medu  Feature      Integer  Education Level   \n",
      "7         Fedu  Feature      Integer  Education Level   \n",
      "8         Mjob  Feature  Categorical       Occupation   \n",
      "9         Fjob  Feature  Categorical       Occupation   \n",
      "10      reason  Feature  Categorical             None   \n",
      "11    guardian  Feature  Categorical             None   \n",
      "12  traveltime  Feature      Integer             None   \n",
      "13   studytime  Feature      Integer             None   \n",
      "14    failures  Feature      Integer             None   \n",
      "15   schoolsup  Feature       Binary             None   \n",
      "16      famsup  Feature       Binary             None   \n",
      "17        paid  Feature       Binary             None   \n",
      "18  activities  Feature       Binary             None   \n",
      "19     nursery  Feature       Binary             None   \n",
      "20      higher  Feature       Binary             None   \n",
      "21    internet  Feature       Binary             None   \n",
      "22    romantic  Feature       Binary             None   \n",
      "23      famrel  Feature      Integer             None   \n",
      "24    freetime  Feature      Integer             None   \n",
      "25       goout  Feature      Integer             None   \n",
      "26        Dalc  Feature      Integer             None   \n",
      "27        Walc  Feature      Integer             None   \n",
      "28      health  Feature      Integer             None   \n",
      "29    absences  Feature      Integer             None   \n",
      "30          G1   Target  Categorical             None   \n",
      "31          G2   Target  Categorical             None   \n",
      "32          G3   Target      Integer             None   \n",
      "\n",
      "                                          description units missing_values  \n",
      "0   student's school (binary: 'GP' - Gabriel Perei...  None             no  \n",
      "1   student's sex (binary: 'F' - female or 'M' - m...  None             no  \n",
      "2              student's age (numeric: from 15 to 22)  None             no  \n",
      "3   student's home address type (binary: 'U' - urb...  None             no  \n",
      "4   family size (binary: 'LE3' - less or equal to ...  None             no  \n",
      "5   parent's cohabitation status (binary: 'T' - li...  None             no  \n",
      "6   mother's education (numeric: 0 - none,  1 - pr...  None             no  \n",
      "7   father's education (numeric: 0 - none,  1 - pr...  None             no  \n",
      "8   mother's job (nominal: 'teacher', 'health' car...  None             no  \n",
      "9   father's job (nominal: 'teacher', 'health' car...  None             no  \n",
      "10  reason to choose this school (nominal: close t...  None             no  \n",
      "11  student's guardian (nominal: 'mother', 'father...  None             no  \n",
      "12  home to school travel time (numeric: 1 - <15 m...  None             no  \n",
      "13  weekly study time (numeric: 1 - <2 hours, 2 - ...  None             no  \n",
      "14  number of past class failures (numeric: n if 1...  None             no  \n",
      "15      extra educational support (binary: yes or no)  None             no  \n",
      "16     family educational support (binary: yes or no)  None             no  \n",
      "17  extra paid classes within the course subject (...  None             no  \n",
      "18    extra-curricular activities (binary: yes or no)  None             no  \n",
      "19        attended nursery school (binary: yes or no)  None             no  \n",
      "20  wants to take higher education (binary: yes or...  None             no  \n",
      "21        Internet access at home (binary: yes or no)  None             no  \n",
      "22   with a romantic relationship (binary: yes or no)  None             no  \n",
      "23  quality of family relationships (numeric: from...  None             no  \n",
      "24  free time after school (numeric: from 1 - very...  None             no  \n",
      "25  going out with friends (numeric: from 1 - very...  None             no  \n",
      "26  workday alcohol consumption (numeric: from 1 -...  None             no  \n",
      "27  weekend alcohol consumption (numeric: from 1 -...  None             no  \n",
      "28  current health status (numeric: from 1 - very ...  None             no  \n",
      "29  number of school absences (numeric: from 0 to 93)  None             no  \n",
      "30         first period grade (numeric: from 0 to 20)  None             no  \n",
      "31        second period grade (numeric: from 0 to 20)  None             no  \n",
      "32  final grade (numeric: from 0 to 20, output tar...  None             no  \u001b[0m\n"
     ]
    },
    {
     "data": {
      "text/plain": [
       "(    school sex  age address famsize Pstatus  Medu  Fedu      Mjob      Fjob  \\\n",
       " 0       GP   F   18       U     GT3       A     4     4   at_home   teacher   \n",
       " 1       GP   F   17       U     GT3       T     1     1   at_home     other   \n",
       " 2       GP   F   15       U     LE3       T     1     1   at_home     other   \n",
       " 3       GP   F   15       U     GT3       T     4     2    health  services   \n",
       " 4       GP   F   16       U     GT3       T     3     3     other     other   \n",
       " ..     ...  ..  ...     ...     ...     ...   ...   ...       ...       ...   \n",
       " 644     MS   F   19       R     GT3       T     2     3  services     other   \n",
       " 645     MS   F   18       U     LE3       T     3     1   teacher  services   \n",
       " 646     MS   F   18       U     GT3       T     1     1     other     other   \n",
       " 647     MS   M   17       U     LE3       T     3     1  services  services   \n",
       " 648     MS   M   18       R     LE3       T     3     2  services     other   \n",
       " \n",
       "      ... higher internet  romantic  famrel  freetime goout Dalc Walc health  \\\n",
       " 0    ...    yes       no        no       4         3     4    1    1      3   \n",
       " 1    ...    yes      yes        no       5         3     3    1    1      3   \n",
       " 2    ...    yes      yes        no       4         3     2    2    3      3   \n",
       " 3    ...    yes      yes       yes       3         2     2    1    1      5   \n",
       " 4    ...    yes       no        no       4         3     2    1    2      5   \n",
       " ..   ...    ...      ...       ...     ...       ...   ...  ...  ...    ...   \n",
       " 644  ...    yes      yes        no       5         4     2    1    2      5   \n",
       " 645  ...    yes      yes        no       4         3     4    1    1      1   \n",
       " 646  ...    yes       no        no       1         1     1    1    1      5   \n",
       " 647  ...    yes      yes        no       2         4     5    3    4      2   \n",
       " 648  ...    yes      yes        no       4         4     1    3    4      5   \n",
       " \n",
       "     absences  \n",
       " 0          4  \n",
       " 1          2  \n",
       " 2          6  \n",
       " 3          0  \n",
       " 4          0  \n",
       " ..       ...  \n",
       " 644        4  \n",
       " 645        4  \n",
       " 646        6  \n",
       " 647        6  \n",
       " 648        4  \n",
       " \n",
       " [649 rows x 30 columns],\n",
       "      G1  G2  G3\n",
       " 0     0  11  11\n",
       " 1     9  11  11\n",
       " 2    12  13  12\n",
       " 3    14  14  14\n",
       " 4    11  13  13\n",
       " ..   ..  ..  ..\n",
       " 644  10  11  10\n",
       " 645  15  15  16\n",
       " 646  11  12   9\n",
       " 647  10  10  10\n",
       " 648  10  11  11\n",
       " \n",
       " [649 rows x 3 columns])"
      ]
     },
     "execution_count": 6,
     "metadata": {},
     "output_type": "execute_result"
    }
   ],
   "source": [
    "load_dataset(\"student_performance\")\n"
   ]
  }
 ],
 "metadata": {
  "kernelspec": {
   "display_name": ".venv",
   "language": "python",
   "name": "python3"
  },
  "language_info": {
   "codemirror_mode": {
    "name": "ipython",
    "version": 3
   },
   "file_extension": ".py",
   "mimetype": "text/x-python",
   "name": "python",
   "nbconvert_exporter": "python",
   "pygments_lexer": "ipython3",
   "version": "3.11.11"
  }
 },
 "nbformat": 4,
 "nbformat_minor": 2
}
