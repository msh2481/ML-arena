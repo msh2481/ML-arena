{
 "cells": [
  {
   "cell_type": "code",
   "execution_count": 4,
   "metadata": {},
   "outputs": [],
   "source": [
    "from pprint import pprint\n",
    "\n",
    "import numpy as np\n",
    "import pandas as pd\n",
    "from datasets import id_map, load_dataset, split_data\n",
    "from linear_models import wrap\n",
    "from sklearn.feature_selection import mutual_info_regression\n",
    "from sklearn.isotonic import IsotonicRegression\n",
    "from sklearn.linear_model import (\n",
    "    ARDRegression,\n",
    "    BayesianRidge,\n",
    "    Lasso,\n",
    "    LassoCV,\n",
    "    LinearRegression,\n",
    "    Ridge,\n",
    "    RidgeCV,\n",
    ")\n",
    "from sklearn.pipeline import Pipeline\n",
    "from sklearn.preprocessing import QuantileTransformer, RobustScaler, StandardScaler\n",
    "from tqdm.auto import tqdm\n",
    "from wrappers import BFS, RFS, RobustRegressor\n"
   ]
  },
  {
   "cell_type": "code",
   "execution_count": 5,
   "metadata": {},
   "outputs": [
    {
     "name": "stdout",
     "output_type": "stream",
     "text": [
      "{'student_performance': 320,\n",
      " 'concrete': 165,\n",
      " 'computer_hardware': 29,\n",
      " 'kidney_disease': 857,\n",
      " 'fertility': 244,\n",
      " 'algerian_forest_fires': 547,\n",
      " 'airfoil_self_noise': 291,\n",
      " 'istanbul_stock_exchange': 247}\n"
     ]
    }
   ],
   "source": [
    "pprint(id_map, sort_dicts=False)\n"
   ]
  },
  {
   "cell_type": "code",
   "execution_count": 6,
   "metadata": {},
   "outputs": [
    {
     "name": "stdout",
     "output_type": "stream",
     "text": [
      "[[ 540.     0.     0.   162.     2.5 1040.   676.    28. ]\n",
      " [ 540.     0.     0.   162.     2.5 1055.   676.    28. ]\n",
      " [ 332.5  142.5    0.   228.     0.   932.   594.   270. ]\n",
      " [ 332.5  142.5    0.   228.     0.   932.   594.   365. ]\n",
      " [ 198.6  132.4    0.   192.     0.   978.4  825.5  360. ]]\n",
      "[2.6454072  1.5614213  0.2666269  0.31334004 0.50797844]\n"
     ]
    }
   ],
   "source": [
    "X, y = load_dataset(\"concrete\")\n",
    "print(X[:5])\n",
    "print(y[:5])\n"
   ]
  },
  {
   "cell_type": "code",
   "execution_count": 8,
   "metadata": {},
   "outputs": [
    {
     "name": "stderr",
     "output_type": "stream",
     "text": [
      "100%|██████████| 40/40 [00:07<00:00,  5.24it/s]"
     ]
    },
    {
     "name": "stdout",
     "output_type": "stream",
     "text": [
      "                                    Model        Train MSE         Test MSE\n",
      "6                         Isotonic(Ridge)  0.3222 ± 0.0168  0.3861 ± 0.0186\n",
      "5        Isotonic(BFS(add_singles=False))  0.3237 ± 0.0173  0.3869 ± 0.0170\n",
      "4                 Isotonic(ARDRegression)  0.3275 ± 0.0175  0.3885 ± 0.0151\n",
      "1                  BFS(add_singles=False)  0.3787 ± 0.0172  0.4000 ± 0.0176\n",
      "2     BFS(add_singles=False, final=lasso)  0.3790 ± 0.0172  0.4006 ± 0.0177\n",
      "3  BFS(add_singles=False, final=lasso_cv)  0.3807 ± 0.0172  0.4014 ± 0.0171\n",
      "0                           ARDRegression  0.3785 ± 0.0175  0.4016 ± 0.0189\n",
      "7                           Ridge(1/(2n))  0.3768 ± 0.0175  0.4017 ± 0.0192\n"
     ]
    },
    {
     "name": "stderr",
     "output_type": "stream",
     "text": [
      "\n"
     ]
    }
   ],
   "source": [
    "players = {\n",
    "    # Classical methods\n",
    "    # \"LinearRegression\": lambda x, _: wrap(LinearRegression()),\n",
    "    \"Ridge(1/(2n))\": lambda x, _: wrap(Ridge(1 / (2 * len(x)))),\n",
    "    \"Isotonic(Ridge)\": lambda x, _: wrap(Ridge(1 / (2 * len(x))), isotonic=True),\n",
    "    # \"RidgeCV(cv=10)\": lambda x, _: wrap(\n",
    "    #     RidgeCV(alphas=10 ** np.linspace(-4, 2, 20), cv=10)\n",
    "    # ),\n",
    "    # \"LassoCV(cv=10)\": lambda x, _: wrap(LassoCV(cv=10)),\n",
    "    \"ARDRegression\": lambda x, _: wrap(ARDRegression()),\n",
    "    \"Isotonic(ARDRegression)\": lambda x, _: wrap(ARDRegression(), isotonic=True),\n",
    "    # Modifications\n",
    "    # \"Ridge\": lambda x, _: wrap(Ridge(1 / (2 * len(x))), feats=\"id\", outliers=\"id\"),\n",
    "    # \"Ridge+BFS\": lambda x, _: wrap(Ridge(1 / (2 * len(x))), feats=\"bfs\", outliers=\"id\"),\n",
    "    # # \"Ridge+RFS\": lambda x, _: wrap(Ridge(1 / (2 * len(x))), feats=\"rfs\", outliers=\"id\"),\n",
    "    # \"Ridge+Robust\": lambda x, _: wrap(\n",
    "    #     Ridge(1 / (2 * len(x))), feats=\"id\", outliers=\"robust\"\n",
    "    # ),\n",
    "    # \"Ridge+BFS+Robust\": lambda x, _: wrap(\n",
    "    #     Ridge(1 / (2 * len(x))), feats=\"bfs\", outliers=\"robust\"\n",
    "    # ),\n",
    "    # \"ARDRegression+Robust\": lambda x, _: wrap(\n",
    "    #     ARDRegression(), feats=\"id\", outliers=\"robust\"\n",
    "    # ),\n",
    "    # \"Ridge+RFS+Robust\": lambda x, _: wrap(\n",
    "    #     Ridge(1 / (2 * len(x))), feats=\"rfs\", outliers=\"robust\"\n",
    "    # ),\n",
    "    # \"BFS(add_singles=True)\": lambda x, _: BFS(\n",
    "    #     wrap(Ridge(1 / (2 * len(x)))), add_singles=True\n",
    "    # ),\n",
    "    \"BFS(add_singles=False)\": lambda x, _: BFS(\n",
    "        wrap(Lasso(1 / (2 * len(x)))), add_singles=False\n",
    "    ),\n",
    "    \"Isotonic(BFS(add_singles=False))\": lambda x, _: wrap(\n",
    "        BFS(Lasso(1 / (2 * len(x))), add_singles=False),\n",
    "        isotonic=True,\n",
    "    ),\n",
    "    # \"BFS(add_singles=True, final=lasso_cv)\": lambda x, _: BFS(\n",
    "    #     wrap(Ridge(1 / (2 * len(x)))), add_singles=True, final=\"lasso_cv\"\n",
    "    # ),\n",
    "    \"BFS(add_singles=False, final=lasso_cv)\": lambda x, _: BFS(\n",
    "        wrap(Lasso(1 / (2 * len(x)))), add_singles=False, final=\"lasso_cv\"\n",
    "    ),\n",
    "    # \"BFS(add_singles=True, final=lasso)\": lambda x, _: BFS(\n",
    "    #     wrap(Ridge(1 / (2 * len(x)))), add_singles=True, final=\"lasso\"\n",
    "    # ),\n",
    "    \"BFS(add_singles=False, final=lasso)\": lambda x, _: BFS(\n",
    "        wrap(Lasso(1 / (2 * len(x)))), add_singles=False, final=\"lasso\"\n",
    "    ),\n",
    "}\n",
    "\n",
    "model_names = list(players.keys())\n",
    "\n",
    "X, y = load_dataset(\"concrete\")\n",
    "# X, y = load_dataset(\"student_performance\")\n",
    "\n",
    "results = []\n",
    "n_runs = 40\n",
    "for run in tqdm(range(n_runs)):\n",
    "    X_train, y_train, X_test, y_test = split_data(\n",
    "        X, y, test_size=0.5, bad_features=False\n",
    "    )\n",
    "    models = [players[name](X_train, y_train) for name in model_names]\n",
    "\n",
    "    for i, (name, model) in enumerate(zip(model_names, models)):\n",
    "        model.fit(X_train, y_train)\n",
    "        train_pred = model.predict(X_train)\n",
    "        test_pred = model.predict(X_test)\n",
    "        train_mse = np.square(train_pred - y_train).mean()\n",
    "        test_mse = np.square(test_pred - y_test).mean()\n",
    "        results.append(\n",
    "            {\"Model\": name, \"Train MSE\": train_mse, \"Test MSE\": test_mse, \"Run\": run}\n",
    "        )\n",
    "\n",
    "df_all = pd.DataFrame(results)\n",
    "df = (\n",
    "    df_all.groupby(\"Model\")\n",
    "    .agg(\n",
    "        Train_MSE_mean=(\"Train MSE\", \"mean\"),\n",
    "        Train_MSE_std=(\"Train MSE\", \"std\"),\n",
    "        Test_MSE_mean=(\"Test MSE\", \"mean\"),\n",
    "        Test_MSE_std=(\"Test MSE\", \"std\"),\n",
    "    )\n",
    "    .reset_index()\n",
    ")\n",
    "\n",
    "df[\"Train MSE\"] = df.apply(\n",
    "    lambda x: f\"{x['Train_MSE_mean']:.4f} ± {x['Train_MSE_std']:.4f}\", axis=1\n",
    ")\n",
    "df[\"Test MSE\"] = df.apply(\n",
    "    lambda x: f\"{x['Test_MSE_mean']:.4f} ± {x['Test_MSE_std']:.4f}\", axis=1\n",
    ")\n",
    "df = df[[\"Model\", \"Train MSE\", \"Test MSE\"]]\n",
    "print(df.sort_values(by=\"Test MSE\"))\n"
   ]
  },
  {
   "cell_type": "code",
   "execution_count": 4,
   "metadata": {},
   "outputs": [
    {
     "name": "stdout",
     "output_type": "stream",
     "text": [
      "BFS(add_singles=False) fitting time: 0.0194 ± 0.0016 seconds\n",
      "BFS(add_singles=True) fitting time: 0.0208 ± 0.0005 seconds\n"
     ]
    }
   ],
   "source": [
    "import time\n",
    "\n",
    "from sklearn.linear_model import LinearRegression\n",
    "from wrappers import BFS\n",
    "\n",
    "# Benchmark fitting time for BFS with different final estimators\n",
    "X_bench, y_bench = X_train.copy(), y_train.copy()\n",
    "base_estimator = LinearRegression()\n",
    "n_runs = 5\n",
    "\n",
    "# BFS with ard\n",
    "with_single_times = []\n",
    "without_singles_times = []\n",
    "for _ in range(n_runs):\n",
    "    start_time = time.time()\n",
    "    with_singles = BFS(base_estimator, add_singles=True)\n",
    "    with_singles.fit(X_bench, y_bench)\n",
    "    with_single_times.append(time.time() - start_time)\n",
    "    start_time = time.time()\n",
    "    without_singles = BFS(base_estimator, add_singles=False)\n",
    "    without_singles.fit(X_bench, y_bench)\n",
    "    without_singles_times.append(time.time() - start_time)\n",
    "with_single_time_mean = np.mean(with_single_times)\n",
    "with_single_time_std = np.std(with_single_times)\n",
    "without_singles_time_mean = np.mean(without_singles_times)\n",
    "without_singles_time_std = np.std(without_singles_times)\n",
    "\n",
    "\n",
    "print(\n",
    "    f\"BFS(add_singles=False) fitting time: {without_singles_time_mean:.4f} ± {without_singles_time_std:.4f} seconds\"\n",
    ")\n",
    "print(\n",
    "    f\"BFS(add_singles=True) fitting time: {with_single_time_mean:.4f} ± {with_single_time_std:.4f} seconds\"\n",
    ")\n"
   ]
  },
  {
   "cell_type": "code",
   "execution_count": 5,
   "metadata": {},
   "outputs": [
    {
     "ename": "AttributeError",
     "evalue": "'Pipeline' object has no attribute 'meta_estimator_'",
     "output_type": "error",
     "traceback": [
      "\u001b[31m---------------------------------------------------------------------------\u001b[39m",
      "\u001b[31mAttributeError\u001b[39m                            Traceback (most recent call last)",
      "\u001b[36mCell\u001b[39m\u001b[36m \u001b[39m\u001b[32mIn[5]\u001b[39m\u001b[32m, line 4\u001b[39m\n\u001b[32m      2\u001b[39m \u001b[38;5;28;01mfor\u001b[39;00m i \u001b[38;5;129;01min\u001b[39;00m \u001b[38;5;28mrange\u001b[39m(\u001b[32m2\u001b[39m, \u001b[38;5;28mlen\u001b[39m(models)):\n\u001b[32m      3\u001b[39m     name = model_names[i]\n\u001b[32m----> \u001b[39m\u001b[32m4\u001b[39m     meta_coef = \u001b[43mmodels\u001b[49m\u001b[43m[\u001b[49m\u001b[43mi\u001b[49m\u001b[43m]\u001b[49m\u001b[43m.\u001b[49m\u001b[43mmeta_estimator_\u001b[49m[\u001b[32m1\u001b[39m].coef_\n\u001b[32m      5\u001b[39m     intercept = models[i].meta_estimator_[\u001b[32m1\u001b[39m].intercept_\n\u001b[32m      6\u001b[39m     \u001b[38;5;28mprint\u001b[39m(name, meta_coef / np.sum(meta_coef), np.sum(meta_coef), intercept)\n",
      "\u001b[31mAttributeError\u001b[39m: 'Pipeline' object has no attribute 'meta_estimator_'"
     ]
    }
   ],
   "source": [
    "np.set_printoptions(suppress=True, precision=6, floatmode=\"fixed\")\n",
    "for i in range(2, len(models)):\n",
    "    name = model_names[i]\n",
    "    meta_coef = models[i].meta_estimator_[1].coef_\n",
    "    intercept = models[i].meta_estimator_[1].intercept_\n",
    "    print(name, meta_coef / np.sum(meta_coef), np.sum(meta_coef), intercept)\n"
   ]
  },
  {
   "cell_type": "code",
   "execution_count": 6,
   "metadata": {},
   "outputs": [],
   "source": [
    "A = models[4]\n",
    "B = models[6]\n"
   ]
  },
  {
   "cell_type": "code",
   "execution_count": 13,
   "metadata": {},
   "outputs": [
    {
     "name": "stdout",
     "output_type": "stream",
     "text": [
      "[ 0.6939171   0.5198963   0.31041625 -0.20310733  0.11226537  0.00358856\n",
      "  0.          0.42565832]\n"
     ]
    }
   ],
   "source": [
    "print(A[1].coef_)\n"
   ]
  },
  {
   "cell_type": "code",
   "execution_count": 16,
   "metadata": {},
   "outputs": [
    {
     "data": {
      "text/plain": [
       "[array([0]),\n",
       " array([0, 4]),\n",
       " array([0, 4, 7]),\n",
       " array([0, 4, 7, 3]),\n",
       " array([0, 4, 7, 3, 6]),\n",
       " array([0, 4, 7, 3, 6, 5]),\n",
       " array([0, 4, 7, 3, 6, 5, 1]),\n",
       " array([0, 4, 7, 3, 6, 5, 1, 2])]"
      ]
     },
     "execution_count": 16,
     "metadata": {},
     "output_type": "execute_result"
    }
   ],
   "source": [
    "B.feature_indices_\n"
   ]
  },
  {
   "cell_type": "code",
   "execution_count": 24,
   "metadata": {},
   "outputs": [
    {
     "name": "stdout",
     "output_type": "stream",
     "text": [
      "[0.000000 0.009541 0.000000 0.000000 0.023721 0.129458 0.319179 0.518100]\n"
     ]
    },
    {
     "data": {
      "text/plain": [
       "array([ 0.476652,  0.316338,  0.155053, -0.219728,  0.126291, -0.042684,\n",
       "       -0.090598,  0.349651])"
      ]
     },
     "execution_count": 24,
     "metadata": {},
     "output_type": "execute_result"
    }
   ],
   "source": [
    "# A[1].coef_\n",
    "np.set_printoptions(suppress=True, precision=6, floatmode=\"fixed\")\n",
    "\n",
    "meta_coef = B.meta_estimator_[1].coef_\n",
    "print(meta_coef / np.sum(meta_coef))\n",
    "total_coef = np.zeros(X_train.shape[1])\n",
    "for i, meta_w in enumerate(meta_coef):\n",
    "    feats = B.feature_indices_[i]\n",
    "    weights = B.estimators_[i][1].coef_\n",
    "    total_coef[feats] += weights * meta_w\n",
    "total_coef\n"
   ]
  },
  {
   "cell_type": "code",
   "execution_count": 7,
   "metadata": {},
   "outputs": [],
   "source": [
    "def EDA(name):\n",
    "    X, y = load_dataset(name)\n",
    "    assert isinstance(X, np.ndarray) and isinstance(y, np.ndarray)\n",
    "    n_samples, n_features = X.shape\n",
    "    assert y.shape == (n_samples,)\n",
    "    print(f\"{n_samples} samples, {n_features} features\")\n",
    "    k = 10\n",
    "    subset = np.random.choice(n_samples, k)\n",
    "    for i in range(n_features):\n",
    "        n_unique = len(np.unique(X[:, i]))\n",
    "        mn, mx = np.min(X[:, i]), np.max(X[:, i])\n",
    "        mean = np.mean(X[:, i])\n",
    "        std = np.std(X[:, i])\n",
    "        C = 8\n",
    "        sample = [int(C * x) / C for x in sorted(X[subset, i].tolist())]\n",
    "        correlation = np.corrcoef(X[:, i], y)[0, 1]\n",
    "        mutual_info = mutual_info_regression(X[:, i].reshape(-1, 1), y)[0]\n",
    "        print(\n",
    "            f\"#{i}: {mn:.2f}..({mean:.2f} ± {std:.2f})..{mx:.2f}, {n_unique} unique, {sample} | C={correlation:.2f}, MI={mutual_info:.2f}\"\n",
    "        )\n"
   ]
  },
  {
   "cell_type": "code",
   "execution_count": null,
   "metadata": {},
   "outputs": [
    {
     "name": "stdout",
     "output_type": "stream",
     "text": [
      "536 samples, 8 features\n",
      "#0: 0.00..(267.50 ± 154.73)..535.00, 536 unique, [6.0, 75.0, 108.0, 199.0, 366.0, 433.0, 444.0, 506.0, 506.0, 525.0] | C=-0.03, MI=0.05\n",
      "#1: -0.05..(0.00 ± 0.01)..0.07, 519 unique, [0.0, 0.0, 0.0, 0.0, 0.0, 0.0, 0.0, 0.0, 0.0, 0.0] | C=0.44, MI=0.09\n",
      "#2: -0.05..(0.00 ± 0.01)..0.06, 527 unique, [0.0, 0.0, 0.0, 0.0, 0.0, 0.0, 0.0, 0.0, 0.0, 0.0] | C=0.60, MI=0.21\n",
      "#3: -0.05..(0.00 ± 0.01)..0.05, 523 unique, [0.0, 0.0, 0.0, 0.0, 0.0, 0.0, 0.0, 0.0, 0.0, 0.0] | C=0.62, MI=0.26\n",
      "#4: -0.05..(0.00 ± 0.01)..0.06, 503 unique, [0.0, 0.0, 0.0, 0.0, 0.0, 0.0, 0.0, 0.0, 0.0, 0.0] | C=0.26, MI=0.00\n",
      "#5: -0.05..(0.00 ± 0.02)..0.06, 508 unique, [0.0, 0.0, 0.0, 0.0, 0.0, 0.0, 0.0, 0.0, 0.0, 0.0] | C=0.43, MI=0.06\n",
      "#6: -0.05..(0.00 ± 0.01)..0.07, 532 unique, [0.0, 0.0, 0.0, 0.0, 0.0, 0.0, 0.0, 0.0, 0.0, 0.0] | C=0.66, MI=0.24\n",
      "#7: -0.04..(0.00 ± 0.01)..0.05, 536 unique, [0.0, 0.0, 0.0, 0.0, 0.0, 0.0, 0.0, 0.0, 0.0, 0.0] | C=0.60, MI=0.23\n"
     ]
    }
   ],
   "source": [
    "EDA(\"istanbul_stock_exchange\")\n"
   ]
  }
 ],
 "metadata": {
  "kernelspec": {
   "display_name": ".venv",
   "language": "python",
   "name": "python3"
  },
  "language_info": {
   "codemirror_mode": {
    "name": "ipython",
    "version": 3
   },
   "file_extension": ".py",
   "mimetype": "text/x-python",
   "name": "python",
   "nbconvert_exporter": "python",
   "pygments_lexer": "ipython3",
   "version": "3.11.11"
  }
 },
 "nbformat": 4,
 "nbformat_minor": 2
}
