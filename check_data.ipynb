{
 "cells": [
  {
   "cell_type": "code",
   "execution_count": 19,
   "metadata": {},
   "outputs": [],
   "source": [
    "from pprint import pprint\n",
    "\n",
    "import numpy as np\n",
    "from datasets import id_map, load_dataset, split_data\n",
    "from linear_models import players, scale\n",
    "from sklearn.feature_selection import mutual_info_regression\n",
    "from sklearn.linear_model import ARDRegression, BayesianRidge, Ridge\n",
    "from sklearn.pipeline import Pipeline\n",
    "from sklearn.preprocessing import QuantileTransformer, RobustScaler, StandardScaler\n",
    "from wrappers import BFS, RFS, RobustRegressor\n"
   ]
  },
  {
   "cell_type": "code",
   "execution_count": 20,
   "metadata": {},
   "outputs": [
    {
     "name": "stdout",
     "output_type": "stream",
     "text": [
      "{'student_performance': 320,\n",
      " 'concrete': 165,\n",
      " 'computer_hardware': 29,\n",
      " 'kidney_disease': 857,\n",
      " 'fertility': 244,\n",
      " 'algerian_forest_fires': 547,\n",
      " 'airfoil_self_noise': 291,\n",
      " 'istanbul_stock_exchange': 247}\n",
      "['Ridge(1/(2n))',\n",
      " 'ARDRegression',\n",
      " 'BFS(inner)',\n",
      " 'BFS(inner, use_positive=False)',\n",
      " 'BFS(inner, use_scaling=False)',\n",
      " 'RFS(inner)',\n",
      " 'RFS(inner, use_positive=False)']\n"
     ]
    }
   ],
   "source": [
    "pprint(id_map, sort_dicts=False)\n",
    "pprint(list(players.keys()))\n"
   ]
  },
  {
   "cell_type": "code",
   "execution_count": 21,
   "metadata": {},
   "outputs": [
    {
     "name": "stdout",
     "output_type": "stream",
     "text": [
      "(751, 5) (752, 5) (751,) (752,)\n"
     ]
    }
   ],
   "source": [
    "X, y = load_dataset(\"airfoil_self_noise\")\n",
    "X_train, y_train, X_test, y_test = split_data(X, y, test_size=0.5, bad_features=True)\n",
    "print(X_train.shape, X_test.shape, y_train.shape, y_test.shape)\n"
   ]
  },
  {
   "cell_type": "code",
   "execution_count": 22,
   "metadata": {},
   "outputs": [
    {
     "name": "stdout",
     "output_type": "stream",
     "text": [
      "0 Ridge(1/(2n))                            0.8257   (train),   0.8594   (test)\n",
      "1 ARDRegression                            0.8266   (train),   0.8297   (test)\n",
      "2 BFS(inner, intercept=False)              0.8281   (train),   0.8314   (test)\n",
      "3 BFS(inner, intercept=True)               0.8267   (train),   0.8366   (test)\n"
     ]
    }
   ],
   "source": [
    "inner = Ridge(1 / (2 * len(X_train)))\n",
    "models = [\n",
    "    scale(Ridge(1 / (2 * len(X_train)))),\n",
    "    scale(ARDRegression()),\n",
    "    scale(BFS(inner, use_intercept=False)),\n",
    "    scale(BFS(inner, use_intercept=True)),\n",
    "    # scale(RFS(inner)),\n",
    "    # scale(RFS(inner, use_positive=False)),\n",
    "]\n",
    "model_names = [\n",
    "    \"Ridge(1/(2n))\",\n",
    "    \"ARDRegression\",\n",
    "    \"BFS(inner, intercept=False)\",\n",
    "    \"BFS(inner, intercept=True)\",\n",
    "]\n",
    "for i, (name, model) in enumerate(zip(model_names, models)):\n",
    "    model.fit(X_train, y_train)\n",
    "    train_pred = model.predict(X_train)\n",
    "    test_pred = model.predict(X_test)\n",
    "    train_mse = np.square(train_pred - y_train).mean()\n",
    "    test_mse = np.square(test_pred - y_test).mean()\n",
    "    print(f\"{i} {name:<40} {train_mse:<8.4f} (train),   {test_mse:<8.4f} (test)\")\n"
   ]
  },
  {
   "cell_type": "code",
   "execution_count": 14,
   "metadata": {},
   "outputs": [],
   "source": [
    "A = models[1]\n",
    "B = models[2]\n"
   ]
  },
  {
   "cell_type": "code",
   "execution_count": 15,
   "metadata": {},
   "outputs": [
    {
     "data": {
      "text/plain": [
       "array([ 0.        , -0.33267927, -0.41888946,  0.08423909,  0.        ],\n",
       "      dtype=float32)"
      ]
     },
     "execution_count": 15,
     "metadata": {},
     "output_type": "execute_result"
    }
   ],
   "source": [
    "A[1].coef_\n"
   ]
  },
  {
   "cell_type": "code",
   "execution_count": 16,
   "metadata": {},
   "outputs": [
    {
     "data": {
      "text/plain": [
       "[array([2]),\n",
       " array([2, 1]),\n",
       " array([2, 1, 3]),\n",
       " array([2, 1, 3, 4]),\n",
       " array([2, 1, 3, 4, 0])]"
      ]
     },
     "execution_count": 16,
     "metadata": {},
     "output_type": "execute_result"
    }
   ],
   "source": [
    "B[1].feature_indices_\n"
   ]
  },
  {
   "cell_type": "code",
   "execution_count": 17,
   "metadata": {},
   "outputs": [
    {
     "data": {
      "text/plain": [
       "array([ 0.000000, -0.130719, -0.164257,  0.026614,  0.004112])"
      ]
     },
     "execution_count": 17,
     "metadata": {},
     "output_type": "execute_result"
    }
   ],
   "source": [
    "# A[1].coef_\n",
    "np.set_printoptions(suppress=True, precision=6, floatmode=\"fixed\")\n",
    "\n",
    "meta_coef = B[1].meta_estimator_[1].coef_\n",
    "total_coef = np.zeros(X_train.shape[1])\n",
    "for i, meta_w in enumerate(meta_coef):\n",
    "    feats = B[1].feature_indices_[i]\n",
    "    weights = B[1].estimators_[i].coef_\n",
    "    total_coef[feats] += weights * meta_w\n",
    "total_coef\n"
   ]
  },
  {
   "cell_type": "code",
   "execution_count": 7,
   "metadata": {},
   "outputs": [],
   "source": [
    "def EDA(name):\n",
    "    X, y = load_dataset(name)\n",
    "    assert isinstance(X, np.ndarray) and isinstance(y, np.ndarray)\n",
    "    n_samples, n_features = X.shape\n",
    "    assert y.shape == (n_samples,)\n",
    "    print(f\"{n_samples} samples, {n_features} features\")\n",
    "    k = 10\n",
    "    subset = np.random.choice(n_samples, k)\n",
    "    for i in range(n_features):\n",
    "        n_unique = len(np.unique(X[:, i]))\n",
    "        mn, mx = np.min(X[:, i]), np.max(X[:, i])\n",
    "        mean = np.mean(X[:, i])\n",
    "        std = np.std(X[:, i])\n",
    "        C = 8\n",
    "        sample = [int(C * x) / C for x in sorted(X[subset, i].tolist())]\n",
    "        correlation = np.corrcoef(X[:, i], y)[0, 1]\n",
    "        mutual_info = mutual_info_regression(X[:, i].reshape(-1, 1), y)[0]\n",
    "        print(\n",
    "            f\"#{i}: {mn:.2f}..({mean:.2f} ± {std:.2f})..{mx:.2f}, {n_unique} unique, {sample} | C={correlation:.2f}, MI={mutual_info:.2f}\"\n",
    "        )\n"
   ]
  },
  {
   "cell_type": "code",
   "execution_count": 8,
   "metadata": {},
   "outputs": [
    {
     "name": "stdout",
     "output_type": "stream",
     "text": [
      "536 samples, 8 features\n",
      "#0: 0.00..(267.50 ± 154.73)..535.00, 536 unique, [6.0, 75.0, 108.0, 199.0, 366.0, 433.0, 444.0, 506.0, 506.0, 525.0] | C=-0.03, MI=0.05\n",
      "#1: -0.05..(0.00 ± 0.01)..0.07, 519 unique, [0.0, 0.0, 0.0, 0.0, 0.0, 0.0, 0.0, 0.0, 0.0, 0.0] | C=0.44, MI=0.09\n",
      "#2: -0.05..(0.00 ± 0.01)..0.06, 527 unique, [0.0, 0.0, 0.0, 0.0, 0.0, 0.0, 0.0, 0.0, 0.0, 0.0] | C=0.60, MI=0.21\n",
      "#3: -0.05..(0.00 ± 0.01)..0.05, 523 unique, [0.0, 0.0, 0.0, 0.0, 0.0, 0.0, 0.0, 0.0, 0.0, 0.0] | C=0.62, MI=0.26\n",
      "#4: -0.05..(0.00 ± 0.01)..0.06, 503 unique, [0.0, 0.0, 0.0, 0.0, 0.0, 0.0, 0.0, 0.0, 0.0, 0.0] | C=0.26, MI=0.00\n",
      "#5: -0.05..(0.00 ± 0.02)..0.06, 508 unique, [0.0, 0.0, 0.0, 0.0, 0.0, 0.0, 0.0, 0.0, 0.0, 0.0] | C=0.43, MI=0.06\n",
      "#6: -0.05..(0.00 ± 0.01)..0.07, 532 unique, [0.0, 0.0, 0.0, 0.0, 0.0, 0.0, 0.0, 0.0, 0.0, 0.0] | C=0.66, MI=0.24\n",
      "#7: -0.04..(0.00 ± 0.01)..0.05, 536 unique, [0.0, 0.0, 0.0, 0.0, 0.0, 0.0, 0.0, 0.0, 0.0, 0.0] | C=0.60, MI=0.23\n"
     ]
    }
   ],
   "source": [
    "EDA(\"istanbul_stock_exchange\")\n"
   ]
  }
 ],
 "metadata": {
  "kernelspec": {
   "display_name": ".venv",
   "language": "python",
   "name": "python3"
  },
  "language_info": {
   "codemirror_mode": {
    "name": "ipython",
    "version": 3
   },
   "file_extension": ".py",
   "mimetype": "text/x-python",
   "name": "python",
   "nbconvert_exporter": "python",
   "pygments_lexer": "ipython3",
   "version": "3.11.11"
  }
 },
 "nbformat": 4,
 "nbformat_minor": 2
}
