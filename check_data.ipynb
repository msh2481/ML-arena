{
 "cells": [
  {
   "cell_type": "code",
   "execution_count": 12,
   "metadata": {},
   "outputs": [],
   "source": [
    "from pprint import pprint\n",
    "\n",
    "import numpy as np\n",
    "from datasets import id_map, load_dataset\n",
    "from sklearn.feature_selection import mutual_info_regression\n"
   ]
  },
  {
   "cell_type": "code",
   "execution_count": 2,
   "metadata": {},
   "outputs": [
    {
     "name": "stdout",
     "output_type": "stream",
     "text": [
      "{'student_performance': 320,\n",
      " 'concrete': 165,\n",
      " 'computer_hardware': 29,\n",
      " 'kidney_disease': 857,\n",
      " 'fertility': 244,\n",
      " 'algerian_forest_fires': 547,\n",
      " 'airfoil_self_noise': 291,\n",
      " 'istanbul_stock_exchange': 247}\n"
     ]
    }
   ],
   "source": [
    "pprint(id_map, sort_dicts=False)\n"
   ]
  },
  {
   "cell_type": "code",
   "execution_count": 20,
   "metadata": {},
   "outputs": [],
   "source": [
    "def EDA(name):\n",
    "    X, y = load_dataset(name)\n",
    "    assert isinstance(X, np.ndarray) and isinstance(y, np.ndarray)\n",
    "    n_samples, n_features = X.shape\n",
    "    assert y.shape == (n_samples,)\n",
    "    print(f\"{n_samples} samples, {n_features} features\")\n",
    "    k = 10\n",
    "    subset = np.random.choice(n_samples, k)\n",
    "    for i in range(n_features):\n",
    "        n_unique = len(np.unique(X[:, i]))\n",
    "        mn, mx = np.min(X[:, i]), np.max(X[:, i])\n",
    "        mean = np.mean(X[:, i])\n",
    "        std = np.std(X[:, i])\n",
    "        C = 8\n",
    "        sample = [int(C * x) / C for x in sorted(X[subset, i].tolist())]\n",
    "        correlation = np.corrcoef(X[:, i], y)[0, 1]\n",
    "        mutual_info = mutual_info_regression(X[:, i].reshape(-1, 1), y)[0]\n",
    "        print(\n",
    "            f\"#{i}: {mn:.2f}..({mean:.2f} ± {std:.2f})..{mx:.2f}, {n_unique} unique, {sample} | C={correlation:.2f}, MI={mutual_info:.2f}\"\n",
    "        )\n"
   ]
  },
  {
   "cell_type": "code",
   "execution_count": 22,
   "metadata": {},
   "outputs": [
    {
     "name": "stdout",
     "output_type": "stream",
     "text": [
      "536 samples, 8 features\n",
      "#0: 0.00..(267.50 ± 154.73)..535.00, 536 unique, [32.0, 66.0, 124.0, 183.0, 226.0, 242.0, 248.0, 359.0, 427.0, 527.0] | C=-0.03, MI=0.05\n",
      "#1: -0.05..(0.00 ± 0.01)..0.07, 519 unique, [0.0, 0.0, 0.0, 0.0, 0.0, 0.0, 0.0, 0.0, 0.0, 0.0] | C=0.44, MI=0.09\n",
      "#2: -0.05..(0.00 ± 0.01)..0.06, 527 unique, [0.0, 0.0, 0.0, 0.0, 0.0, 0.0, 0.0, 0.0, 0.0, 0.0] | C=0.60, MI=0.20\n",
      "#3: -0.05..(0.00 ± 0.01)..0.05, 523 unique, [0.0, 0.0, 0.0, 0.0, 0.0, 0.0, 0.0, 0.0, 0.0, 0.0] | C=0.62, MI=0.26\n",
      "#4: -0.05..(0.00 ± 0.01)..0.06, 503 unique, [0.0, 0.0, 0.0, 0.0, 0.0, 0.0, 0.0, 0.0, 0.0, 0.0] | C=0.26, MI=0.01\n",
      "#5: -0.05..(0.00 ± 0.02)..0.06, 508 unique, [0.0, 0.0, 0.0, 0.0, 0.0, 0.0, 0.0, 0.0, 0.0, 0.0] | C=0.43, MI=0.06\n",
      "#6: -0.05..(0.00 ± 0.01)..0.07, 532 unique, [0.0, 0.0, 0.0, 0.0, 0.0, 0.0, 0.0, 0.0, 0.0, 0.0] | C=0.66, MI=0.24\n",
      "#7: -0.04..(0.00 ± 0.01)..0.05, 536 unique, [0.0, 0.0, 0.0, 0.0, 0.0, 0.0, 0.0, 0.0, 0.0, 0.0] | C=0.60, MI=0.23\n"
     ]
    }
   ],
   "source": [
    "EDA(\"istanbul_stock_exchange\")\n"
   ]
  }
 ],
 "metadata": {
  "kernelspec": {
   "display_name": ".venv",
   "language": "python",
   "name": "python3"
  },
  "language_info": {
   "codemirror_mode": {
    "name": "ipython",
    "version": 3
   },
   "file_extension": ".py",
   "mimetype": "text/x-python",
   "name": "python",
   "nbconvert_exporter": "python",
   "pygments_lexer": "ipython3",
   "version": "3.11.11"
  }
 },
 "nbformat": 4,
 "nbformat_minor": 2
}
